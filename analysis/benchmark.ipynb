{
 "cells": [
  {
   "cell_type": "markdown",
   "id": "ea92a4e8",
   "metadata": {},
   "source": [
    "# Bank-Marketing Benchmark"
   ]
  },
  {
   "cell_type": "markdown",
   "id": "ead5f46a",
   "metadata": {},
   "source": [
    "You can check the source here: https://www.kaggle.com/datasets/henriqueyamahata/bank-marketing"
   ]
  },
  {
   "cell_type": "markdown",
   "id": "aebc396a",
   "metadata": {},
   "source": [
    "The data is related with direct marketing campaigns (phone calls) of a Portuguese banking institution. The classification goal is to predict if the client will subscribe a term deposit. The purpose of this project is to discover the machine learning model that best fits the data for benchmark purposes. The trained models are naive bayes, decision trees, random forest, xgboost, k-nearest neightbors, logistic regression, support vector machine and artificial neural network."
   ]
  },
  {
   "cell_type": "code",
   "execution_count": 1,
   "id": "906a882b",
   "metadata": {},
   "outputs": [],
   "source": [
    "# Import libraries\n",
    "\n",
    "import numpy as np\n",
    "import pandas as pd\n",
    "import matplotlib.pyplot as plt\n",
    "import seaborn as sns\n",
    "import warnings\n",
    "from sklearn.preprocessing import StandardScaler, LabelEncoder, OneHotEncoder\n",
    "from sklearn.model_selection import GridSearchCV, train_test_split, cross_val_score, KFold\n",
    "from sklearn.naive_bayes import GaussianNB\n",
    "from sklearn.tree import DecisionTreeClassifier\n",
    "from sklearn.ensemble import RandomForestClassifier\n",
    "from sklearn.neighbors import KNeighborsClassifier\n",
    "from sklearn.linear_model import LogisticRegression\n",
    "from sklearn.svm import SVC\n",
    "from sklearn.neural_network import MLPClassifier\n",
    "from sklearn.metrics import classification_report\n",
    "from xgboost import XGBClassifier\n",
    "from yellowbrick.classifier import ConfusionMatrix\n",
    "from scipy.stats import f_oneway, jarque_bera\n",
    "from statsmodels.stats.multicomp import pairwise_tukeyhsd"
   ]
  },
  {
   "cell_type": "code",
   "execution_count": 2,
   "id": "83622665",
   "metadata": {},
   "outputs": [],
   "source": [
    "# Get rid of annoying warnings\n",
    "\n",
    "warnings.filterwarnings('ignore')"
   ]
  },
  {
   "cell_type": "code",
   "execution_count": 3,
   "id": "06de88f6",
   "metadata": {},
   "outputs": [
    {
     "data": {
      "text/html": [
       "<div>\n",
       "<style scoped>\n",
       "    .dataframe tbody tr th:only-of-type {\n",
       "        vertical-align: middle;\n",
       "    }\n",
       "\n",
       "    .dataframe tbody tr th {\n",
       "        vertical-align: top;\n",
       "    }\n",
       "\n",
       "    .dataframe thead th {\n",
       "        text-align: right;\n",
       "    }\n",
       "</style>\n",
       "<table border=\"1\" class=\"dataframe\">\n",
       "  <thead>\n",
       "    <tr style=\"text-align: right;\">\n",
       "      <th></th>\n",
       "      <th>age</th>\n",
       "      <th>job</th>\n",
       "      <th>marital</th>\n",
       "      <th>education</th>\n",
       "      <th>default</th>\n",
       "      <th>housing</th>\n",
       "      <th>loan</th>\n",
       "      <th>contact</th>\n",
       "      <th>month</th>\n",
       "      <th>day_of_week</th>\n",
       "      <th>...</th>\n",
       "      <th>campaign</th>\n",
       "      <th>pdays</th>\n",
       "      <th>previous</th>\n",
       "      <th>poutcome</th>\n",
       "      <th>emp.var.rate</th>\n",
       "      <th>cons.price.idx</th>\n",
       "      <th>cons.conf.idx</th>\n",
       "      <th>euribor3m</th>\n",
       "      <th>nr.employed</th>\n",
       "      <th>y</th>\n",
       "    </tr>\n",
       "  </thead>\n",
       "  <tbody>\n",
       "    <tr>\n",
       "      <th>0</th>\n",
       "      <td>56</td>\n",
       "      <td>housemaid</td>\n",
       "      <td>married</td>\n",
       "      <td>basic.4y</td>\n",
       "      <td>no</td>\n",
       "      <td>no</td>\n",
       "      <td>no</td>\n",
       "      <td>telephone</td>\n",
       "      <td>may</td>\n",
       "      <td>mon</td>\n",
       "      <td>...</td>\n",
       "      <td>1</td>\n",
       "      <td>999</td>\n",
       "      <td>0</td>\n",
       "      <td>nonexistent</td>\n",
       "      <td>1.1</td>\n",
       "      <td>93.994</td>\n",
       "      <td>-36.4</td>\n",
       "      <td>4.857</td>\n",
       "      <td>5191.0</td>\n",
       "      <td>no</td>\n",
       "    </tr>\n",
       "    <tr>\n",
       "      <th>1</th>\n",
       "      <td>57</td>\n",
       "      <td>services</td>\n",
       "      <td>married</td>\n",
       "      <td>high.school</td>\n",
       "      <td>unknown</td>\n",
       "      <td>no</td>\n",
       "      <td>no</td>\n",
       "      <td>telephone</td>\n",
       "      <td>may</td>\n",
       "      <td>mon</td>\n",
       "      <td>...</td>\n",
       "      <td>1</td>\n",
       "      <td>999</td>\n",
       "      <td>0</td>\n",
       "      <td>nonexistent</td>\n",
       "      <td>1.1</td>\n",
       "      <td>93.994</td>\n",
       "      <td>-36.4</td>\n",
       "      <td>4.857</td>\n",
       "      <td>5191.0</td>\n",
       "      <td>no</td>\n",
       "    </tr>\n",
       "    <tr>\n",
       "      <th>2</th>\n",
       "      <td>37</td>\n",
       "      <td>services</td>\n",
       "      <td>married</td>\n",
       "      <td>high.school</td>\n",
       "      <td>no</td>\n",
       "      <td>yes</td>\n",
       "      <td>no</td>\n",
       "      <td>telephone</td>\n",
       "      <td>may</td>\n",
       "      <td>mon</td>\n",
       "      <td>...</td>\n",
       "      <td>1</td>\n",
       "      <td>999</td>\n",
       "      <td>0</td>\n",
       "      <td>nonexistent</td>\n",
       "      <td>1.1</td>\n",
       "      <td>93.994</td>\n",
       "      <td>-36.4</td>\n",
       "      <td>4.857</td>\n",
       "      <td>5191.0</td>\n",
       "      <td>no</td>\n",
       "    </tr>\n",
       "    <tr>\n",
       "      <th>3</th>\n",
       "      <td>40</td>\n",
       "      <td>admin.</td>\n",
       "      <td>married</td>\n",
       "      <td>basic.6y</td>\n",
       "      <td>no</td>\n",
       "      <td>no</td>\n",
       "      <td>no</td>\n",
       "      <td>telephone</td>\n",
       "      <td>may</td>\n",
       "      <td>mon</td>\n",
       "      <td>...</td>\n",
       "      <td>1</td>\n",
       "      <td>999</td>\n",
       "      <td>0</td>\n",
       "      <td>nonexistent</td>\n",
       "      <td>1.1</td>\n",
       "      <td>93.994</td>\n",
       "      <td>-36.4</td>\n",
       "      <td>4.857</td>\n",
       "      <td>5191.0</td>\n",
       "      <td>no</td>\n",
       "    </tr>\n",
       "    <tr>\n",
       "      <th>4</th>\n",
       "      <td>56</td>\n",
       "      <td>services</td>\n",
       "      <td>married</td>\n",
       "      <td>high.school</td>\n",
       "      <td>no</td>\n",
       "      <td>no</td>\n",
       "      <td>yes</td>\n",
       "      <td>telephone</td>\n",
       "      <td>may</td>\n",
       "      <td>mon</td>\n",
       "      <td>...</td>\n",
       "      <td>1</td>\n",
       "      <td>999</td>\n",
       "      <td>0</td>\n",
       "      <td>nonexistent</td>\n",
       "      <td>1.1</td>\n",
       "      <td>93.994</td>\n",
       "      <td>-36.4</td>\n",
       "      <td>4.857</td>\n",
       "      <td>5191.0</td>\n",
       "      <td>no</td>\n",
       "    </tr>\n",
       "    <tr>\n",
       "      <th>...</th>\n",
       "      <td>...</td>\n",
       "      <td>...</td>\n",
       "      <td>...</td>\n",
       "      <td>...</td>\n",
       "      <td>...</td>\n",
       "      <td>...</td>\n",
       "      <td>...</td>\n",
       "      <td>...</td>\n",
       "      <td>...</td>\n",
       "      <td>...</td>\n",
       "      <td>...</td>\n",
       "      <td>...</td>\n",
       "      <td>...</td>\n",
       "      <td>...</td>\n",
       "      <td>...</td>\n",
       "      <td>...</td>\n",
       "      <td>...</td>\n",
       "      <td>...</td>\n",
       "      <td>...</td>\n",
       "      <td>...</td>\n",
       "      <td>...</td>\n",
       "    </tr>\n",
       "    <tr>\n",
       "      <th>41183</th>\n",
       "      <td>73</td>\n",
       "      <td>retired</td>\n",
       "      <td>married</td>\n",
       "      <td>professional.course</td>\n",
       "      <td>no</td>\n",
       "      <td>yes</td>\n",
       "      <td>no</td>\n",
       "      <td>cellular</td>\n",
       "      <td>nov</td>\n",
       "      <td>fri</td>\n",
       "      <td>...</td>\n",
       "      <td>1</td>\n",
       "      <td>999</td>\n",
       "      <td>0</td>\n",
       "      <td>nonexistent</td>\n",
       "      <td>-1.1</td>\n",
       "      <td>94.767</td>\n",
       "      <td>-50.8</td>\n",
       "      <td>1.028</td>\n",
       "      <td>4963.6</td>\n",
       "      <td>yes</td>\n",
       "    </tr>\n",
       "    <tr>\n",
       "      <th>41184</th>\n",
       "      <td>46</td>\n",
       "      <td>blue-collar</td>\n",
       "      <td>married</td>\n",
       "      <td>professional.course</td>\n",
       "      <td>no</td>\n",
       "      <td>no</td>\n",
       "      <td>no</td>\n",
       "      <td>cellular</td>\n",
       "      <td>nov</td>\n",
       "      <td>fri</td>\n",
       "      <td>...</td>\n",
       "      <td>1</td>\n",
       "      <td>999</td>\n",
       "      <td>0</td>\n",
       "      <td>nonexistent</td>\n",
       "      <td>-1.1</td>\n",
       "      <td>94.767</td>\n",
       "      <td>-50.8</td>\n",
       "      <td>1.028</td>\n",
       "      <td>4963.6</td>\n",
       "      <td>no</td>\n",
       "    </tr>\n",
       "    <tr>\n",
       "      <th>41185</th>\n",
       "      <td>56</td>\n",
       "      <td>retired</td>\n",
       "      <td>married</td>\n",
       "      <td>university.degree</td>\n",
       "      <td>no</td>\n",
       "      <td>yes</td>\n",
       "      <td>no</td>\n",
       "      <td>cellular</td>\n",
       "      <td>nov</td>\n",
       "      <td>fri</td>\n",
       "      <td>...</td>\n",
       "      <td>2</td>\n",
       "      <td>999</td>\n",
       "      <td>0</td>\n",
       "      <td>nonexistent</td>\n",
       "      <td>-1.1</td>\n",
       "      <td>94.767</td>\n",
       "      <td>-50.8</td>\n",
       "      <td>1.028</td>\n",
       "      <td>4963.6</td>\n",
       "      <td>no</td>\n",
       "    </tr>\n",
       "    <tr>\n",
       "      <th>41186</th>\n",
       "      <td>44</td>\n",
       "      <td>technician</td>\n",
       "      <td>married</td>\n",
       "      <td>professional.course</td>\n",
       "      <td>no</td>\n",
       "      <td>no</td>\n",
       "      <td>no</td>\n",
       "      <td>cellular</td>\n",
       "      <td>nov</td>\n",
       "      <td>fri</td>\n",
       "      <td>...</td>\n",
       "      <td>1</td>\n",
       "      <td>999</td>\n",
       "      <td>0</td>\n",
       "      <td>nonexistent</td>\n",
       "      <td>-1.1</td>\n",
       "      <td>94.767</td>\n",
       "      <td>-50.8</td>\n",
       "      <td>1.028</td>\n",
       "      <td>4963.6</td>\n",
       "      <td>yes</td>\n",
       "    </tr>\n",
       "    <tr>\n",
       "      <th>41187</th>\n",
       "      <td>74</td>\n",
       "      <td>retired</td>\n",
       "      <td>married</td>\n",
       "      <td>professional.course</td>\n",
       "      <td>no</td>\n",
       "      <td>yes</td>\n",
       "      <td>no</td>\n",
       "      <td>cellular</td>\n",
       "      <td>nov</td>\n",
       "      <td>fri</td>\n",
       "      <td>...</td>\n",
       "      <td>3</td>\n",
       "      <td>999</td>\n",
       "      <td>1</td>\n",
       "      <td>failure</td>\n",
       "      <td>-1.1</td>\n",
       "      <td>94.767</td>\n",
       "      <td>-50.8</td>\n",
       "      <td>1.028</td>\n",
       "      <td>4963.6</td>\n",
       "      <td>no</td>\n",
       "    </tr>\n",
       "  </tbody>\n",
       "</table>\n",
       "<p>41188 rows × 21 columns</p>\n",
       "</div>"
      ],
      "text/plain": [
       "       age          job  marital            education  default housing loan  \\\n",
       "0       56    housemaid  married             basic.4y       no      no   no   \n",
       "1       57     services  married          high.school  unknown      no   no   \n",
       "2       37     services  married          high.school       no     yes   no   \n",
       "3       40       admin.  married             basic.6y       no      no   no   \n",
       "4       56     services  married          high.school       no      no  yes   \n",
       "...    ...          ...      ...                  ...      ...     ...  ...   \n",
       "41183   73      retired  married  professional.course       no     yes   no   \n",
       "41184   46  blue-collar  married  professional.course       no      no   no   \n",
       "41185   56      retired  married    university.degree       no     yes   no   \n",
       "41186   44   technician  married  professional.course       no      no   no   \n",
       "41187   74      retired  married  professional.course       no     yes   no   \n",
       "\n",
       "         contact month day_of_week  ...  campaign  pdays  previous  \\\n",
       "0      telephone   may         mon  ...         1    999         0   \n",
       "1      telephone   may         mon  ...         1    999         0   \n",
       "2      telephone   may         mon  ...         1    999         0   \n",
       "3      telephone   may         mon  ...         1    999         0   \n",
       "4      telephone   may         mon  ...         1    999         0   \n",
       "...          ...   ...         ...  ...       ...    ...       ...   \n",
       "41183   cellular   nov         fri  ...         1    999         0   \n",
       "41184   cellular   nov         fri  ...         1    999         0   \n",
       "41185   cellular   nov         fri  ...         2    999         0   \n",
       "41186   cellular   nov         fri  ...         1    999         0   \n",
       "41187   cellular   nov         fri  ...         3    999         1   \n",
       "\n",
       "          poutcome emp.var.rate  cons.price.idx  cons.conf.idx  euribor3m  \\\n",
       "0      nonexistent          1.1          93.994          -36.4      4.857   \n",
       "1      nonexistent          1.1          93.994          -36.4      4.857   \n",
       "2      nonexistent          1.1          93.994          -36.4      4.857   \n",
       "3      nonexistent          1.1          93.994          -36.4      4.857   \n",
       "4      nonexistent          1.1          93.994          -36.4      4.857   \n",
       "...            ...          ...             ...            ...        ...   \n",
       "41183  nonexistent         -1.1          94.767          -50.8      1.028   \n",
       "41184  nonexistent         -1.1          94.767          -50.8      1.028   \n",
       "41185  nonexistent         -1.1          94.767          -50.8      1.028   \n",
       "41186  nonexistent         -1.1          94.767          -50.8      1.028   \n",
       "41187      failure         -1.1          94.767          -50.8      1.028   \n",
       "\n",
       "       nr.employed    y  \n",
       "0           5191.0   no  \n",
       "1           5191.0   no  \n",
       "2           5191.0   no  \n",
       "3           5191.0   no  \n",
       "4           5191.0   no  \n",
       "...            ...  ...  \n",
       "41183       4963.6  yes  \n",
       "41184       4963.6   no  \n",
       "41185       4963.6   no  \n",
       "41186       4963.6  yes  \n",
       "41187       4963.6   no  \n",
       "\n",
       "[41188 rows x 21 columns]"
      ]
     },
     "execution_count": 3,
     "metadata": {},
     "output_type": "execute_result"
    }
   ],
   "source": [
    "# Load dataset\n",
    "\n",
    "pre_df = pd.read_csv('../src/bank-additional-full.csv', sep=';')\n",
    "pre_df"
   ]
  },
  {
   "cell_type": "code",
   "execution_count": 4,
   "id": "d21cfb00",
   "metadata": {},
   "outputs": [
    {
     "name": "stdout",
     "output_type": "stream",
     "text": [
      "<class 'pandas.core.frame.DataFrame'>\n",
      "RangeIndex: 41188 entries, 0 to 41187\n",
      "Data columns (total 21 columns):\n",
      " #   Column          Non-Null Count  Dtype  \n",
      "---  ------          --------------  -----  \n",
      " 0   age             41188 non-null  int64  \n",
      " 1   job             41188 non-null  object \n",
      " 2   marital         41188 non-null  object \n",
      " 3   education       41188 non-null  object \n",
      " 4   default         41188 non-null  object \n",
      " 5   housing         41188 non-null  object \n",
      " 6   loan            41188 non-null  object \n",
      " 7   contact         41188 non-null  object \n",
      " 8   month           41188 non-null  object \n",
      " 9   day_of_week     41188 non-null  object \n",
      " 10  duration        41188 non-null  int64  \n",
      " 11  campaign        41188 non-null  int64  \n",
      " 12  pdays           41188 non-null  int64  \n",
      " 13  previous        41188 non-null  int64  \n",
      " 14  poutcome        41188 non-null  object \n",
      " 15  emp.var.rate    41188 non-null  float64\n",
      " 16  cons.price.idx  41188 non-null  float64\n",
      " 17  cons.conf.idx   41188 non-null  float64\n",
      " 18  euribor3m       41188 non-null  float64\n",
      " 19  nr.employed     41188 non-null  float64\n",
      " 20  y               41188 non-null  object \n",
      "dtypes: float64(5), int64(5), object(11)\n",
      "memory usage: 6.6+ MB\n"
     ]
    }
   ],
   "source": [
    "# Check data info\n",
    "\n",
    "pre_df.info()"
   ]
  },
  {
   "cell_type": "code",
   "execution_count": 5,
   "id": "50dfa514",
   "metadata": {},
   "outputs": [
    {
     "data": {
      "text/html": [
       "<div>\n",
       "<style scoped>\n",
       "    .dataframe tbody tr th:only-of-type {\n",
       "        vertical-align: middle;\n",
       "    }\n",
       "\n",
       "    .dataframe tbody tr th {\n",
       "        vertical-align: top;\n",
       "    }\n",
       "\n",
       "    .dataframe thead th {\n",
       "        text-align: right;\n",
       "    }\n",
       "</style>\n",
       "<table border=\"1\" class=\"dataframe\">\n",
       "  <thead>\n",
       "    <tr style=\"text-align: right;\">\n",
       "      <th></th>\n",
       "      <th>age</th>\n",
       "      <th>job</th>\n",
       "      <th>marital</th>\n",
       "      <th>education</th>\n",
       "      <th>default</th>\n",
       "      <th>housing</th>\n",
       "      <th>loan</th>\n",
       "      <th>contact</th>\n",
       "      <th>emp.var.rate</th>\n",
       "      <th>cons.price.idx</th>\n",
       "      <th>cons.conf.idx</th>\n",
       "      <th>euribor3m</th>\n",
       "      <th>nr.employed</th>\n",
       "      <th>deposit</th>\n",
       "      <th>duration</th>\n",
       "    </tr>\n",
       "  </thead>\n",
       "  <tbody>\n",
       "    <tr>\n",
       "      <th>0</th>\n",
       "      <td>56</td>\n",
       "      <td>housemaid</td>\n",
       "      <td>married</td>\n",
       "      <td>basic.4y</td>\n",
       "      <td>no</td>\n",
       "      <td>no</td>\n",
       "      <td>no</td>\n",
       "      <td>telephone</td>\n",
       "      <td>1.1</td>\n",
       "      <td>93.994</td>\n",
       "      <td>-36.4</td>\n",
       "      <td>4.857</td>\n",
       "      <td>5191.0</td>\n",
       "      <td>no</td>\n",
       "      <td>261</td>\n",
       "    </tr>\n",
       "    <tr>\n",
       "      <th>1</th>\n",
       "      <td>57</td>\n",
       "      <td>services</td>\n",
       "      <td>married</td>\n",
       "      <td>high.school</td>\n",
       "      <td>unknown</td>\n",
       "      <td>no</td>\n",
       "      <td>no</td>\n",
       "      <td>telephone</td>\n",
       "      <td>1.1</td>\n",
       "      <td>93.994</td>\n",
       "      <td>-36.4</td>\n",
       "      <td>4.857</td>\n",
       "      <td>5191.0</td>\n",
       "      <td>no</td>\n",
       "      <td>149</td>\n",
       "    </tr>\n",
       "    <tr>\n",
       "      <th>2</th>\n",
       "      <td>37</td>\n",
       "      <td>services</td>\n",
       "      <td>married</td>\n",
       "      <td>high.school</td>\n",
       "      <td>no</td>\n",
       "      <td>yes</td>\n",
       "      <td>no</td>\n",
       "      <td>telephone</td>\n",
       "      <td>1.1</td>\n",
       "      <td>93.994</td>\n",
       "      <td>-36.4</td>\n",
       "      <td>4.857</td>\n",
       "      <td>5191.0</td>\n",
       "      <td>no</td>\n",
       "      <td>226</td>\n",
       "    </tr>\n",
       "    <tr>\n",
       "      <th>3</th>\n",
       "      <td>40</td>\n",
       "      <td>admin.</td>\n",
       "      <td>married</td>\n",
       "      <td>basic.6y</td>\n",
       "      <td>no</td>\n",
       "      <td>no</td>\n",
       "      <td>no</td>\n",
       "      <td>telephone</td>\n",
       "      <td>1.1</td>\n",
       "      <td>93.994</td>\n",
       "      <td>-36.4</td>\n",
       "      <td>4.857</td>\n",
       "      <td>5191.0</td>\n",
       "      <td>no</td>\n",
       "      <td>151</td>\n",
       "    </tr>\n",
       "    <tr>\n",
       "      <th>4</th>\n",
       "      <td>56</td>\n",
       "      <td>services</td>\n",
       "      <td>married</td>\n",
       "      <td>high.school</td>\n",
       "      <td>no</td>\n",
       "      <td>no</td>\n",
       "      <td>yes</td>\n",
       "      <td>telephone</td>\n",
       "      <td>1.1</td>\n",
       "      <td>93.994</td>\n",
       "      <td>-36.4</td>\n",
       "      <td>4.857</td>\n",
       "      <td>5191.0</td>\n",
       "      <td>no</td>\n",
       "      <td>307</td>\n",
       "    </tr>\n",
       "  </tbody>\n",
       "</table>\n",
       "</div>"
      ],
      "text/plain": [
       "   age        job  marital    education  default housing loan    contact  \\\n",
       "0   56  housemaid  married     basic.4y       no      no   no  telephone   \n",
       "1   57   services  married  high.school  unknown      no   no  telephone   \n",
       "2   37   services  married  high.school       no     yes   no  telephone   \n",
       "3   40     admin.  married     basic.6y       no      no   no  telephone   \n",
       "4   56   services  married  high.school       no      no  yes  telephone   \n",
       "\n",
       "   emp.var.rate  cons.price.idx  cons.conf.idx  euribor3m  nr.employed  \\\n",
       "0           1.1          93.994          -36.4      4.857       5191.0   \n",
       "1           1.1          93.994          -36.4      4.857       5191.0   \n",
       "2           1.1          93.994          -36.4      4.857       5191.0   \n",
       "3           1.1          93.994          -36.4      4.857       5191.0   \n",
       "4           1.1          93.994          -36.4      4.857       5191.0   \n",
       "\n",
       "  deposit  duration  \n",
       "0      no       261  \n",
       "1      no       149  \n",
       "2      no       226  \n",
       "3      no       151  \n",
       "4      no       307  "
      ]
     },
     "execution_count": 5,
     "metadata": {},
     "output_type": "execute_result"
    }
   ],
   "source": [
    "# Arrange dataframe\n",
    "\n",
    "df = pd.concat([pre_df.iloc[:, :8], pre_df.iloc[:, -6:]], axis=1)\n",
    "df['duration'] = pre_df['duration']\n",
    "df.rename(columns={'y': 'deposit'}, inplace=True)\n",
    "df.head()"
   ]
  },
  {
   "cell_type": "markdown",
   "id": "ea332440",
   "metadata": {},
   "source": [
    "Month, day\\_of\\_week, campaign, pdays, previous and poutcome variables are removed in the dataframe due to lack of relevance. although duration should be discarded to obtain more realistic models, the focus is on extracting the best possible performance, so it's maintained."
   ]
  },
  {
   "cell_type": "code",
   "execution_count": 6,
   "id": "4c55c52b",
   "metadata": {},
   "outputs": [
    {
     "data": {
      "text/html": [
       "<div>\n",
       "<style scoped>\n",
       "    .dataframe tbody tr th:only-of-type {\n",
       "        vertical-align: middle;\n",
       "    }\n",
       "\n",
       "    .dataframe tbody tr th {\n",
       "        vertical-align: top;\n",
       "    }\n",
       "\n",
       "    .dataframe thead th {\n",
       "        text-align: right;\n",
       "    }\n",
       "</style>\n",
       "<table border=\"1\" class=\"dataframe\">\n",
       "  <thead>\n",
       "    <tr style=\"text-align: right;\">\n",
       "      <th></th>\n",
       "      <th>age</th>\n",
       "      <th>emp.var.rate</th>\n",
       "      <th>cons.price.idx</th>\n",
       "      <th>cons.conf.idx</th>\n",
       "      <th>euribor3m</th>\n",
       "      <th>nr.employed</th>\n",
       "      <th>duration</th>\n",
       "    </tr>\n",
       "  </thead>\n",
       "  <tbody>\n",
       "    <tr>\n",
       "      <th>count</th>\n",
       "      <td>41188.00000</td>\n",
       "      <td>41188.000000</td>\n",
       "      <td>41188.000000</td>\n",
       "      <td>41188.000000</td>\n",
       "      <td>41188.000000</td>\n",
       "      <td>41188.000000</td>\n",
       "      <td>41188.000000</td>\n",
       "    </tr>\n",
       "    <tr>\n",
       "      <th>mean</th>\n",
       "      <td>40.02406</td>\n",
       "      <td>0.081886</td>\n",
       "      <td>93.575664</td>\n",
       "      <td>-40.502600</td>\n",
       "      <td>3.621291</td>\n",
       "      <td>5167.035911</td>\n",
       "      <td>258.285010</td>\n",
       "    </tr>\n",
       "    <tr>\n",
       "      <th>std</th>\n",
       "      <td>10.42125</td>\n",
       "      <td>1.570960</td>\n",
       "      <td>0.578840</td>\n",
       "      <td>4.628198</td>\n",
       "      <td>1.734447</td>\n",
       "      <td>72.251528</td>\n",
       "      <td>259.279249</td>\n",
       "    </tr>\n",
       "    <tr>\n",
       "      <th>min</th>\n",
       "      <td>17.00000</td>\n",
       "      <td>-3.400000</td>\n",
       "      <td>92.201000</td>\n",
       "      <td>-50.800000</td>\n",
       "      <td>0.634000</td>\n",
       "      <td>4963.600000</td>\n",
       "      <td>0.000000</td>\n",
       "    </tr>\n",
       "    <tr>\n",
       "      <th>25%</th>\n",
       "      <td>32.00000</td>\n",
       "      <td>-1.800000</td>\n",
       "      <td>93.075000</td>\n",
       "      <td>-42.700000</td>\n",
       "      <td>1.344000</td>\n",
       "      <td>5099.100000</td>\n",
       "      <td>102.000000</td>\n",
       "    </tr>\n",
       "    <tr>\n",
       "      <th>50%</th>\n",
       "      <td>38.00000</td>\n",
       "      <td>1.100000</td>\n",
       "      <td>93.749000</td>\n",
       "      <td>-41.800000</td>\n",
       "      <td>4.857000</td>\n",
       "      <td>5191.000000</td>\n",
       "      <td>180.000000</td>\n",
       "    </tr>\n",
       "    <tr>\n",
       "      <th>75%</th>\n",
       "      <td>47.00000</td>\n",
       "      <td>1.400000</td>\n",
       "      <td>93.994000</td>\n",
       "      <td>-36.400000</td>\n",
       "      <td>4.961000</td>\n",
       "      <td>5228.100000</td>\n",
       "      <td>319.000000</td>\n",
       "    </tr>\n",
       "    <tr>\n",
       "      <th>max</th>\n",
       "      <td>98.00000</td>\n",
       "      <td>1.400000</td>\n",
       "      <td>94.767000</td>\n",
       "      <td>-26.900000</td>\n",
       "      <td>5.045000</td>\n",
       "      <td>5228.100000</td>\n",
       "      <td>4918.000000</td>\n",
       "    </tr>\n",
       "  </tbody>\n",
       "</table>\n",
       "</div>"
      ],
      "text/plain": [
       "               age  emp.var.rate  cons.price.idx  cons.conf.idx     euribor3m  \\\n",
       "count  41188.00000  41188.000000    41188.000000   41188.000000  41188.000000   \n",
       "mean      40.02406      0.081886       93.575664     -40.502600      3.621291   \n",
       "std       10.42125      1.570960        0.578840       4.628198      1.734447   \n",
       "min       17.00000     -3.400000       92.201000     -50.800000      0.634000   \n",
       "25%       32.00000     -1.800000       93.075000     -42.700000      1.344000   \n",
       "50%       38.00000      1.100000       93.749000     -41.800000      4.857000   \n",
       "75%       47.00000      1.400000       93.994000     -36.400000      4.961000   \n",
       "max       98.00000      1.400000       94.767000     -26.900000      5.045000   \n",
       "\n",
       "        nr.employed      duration  \n",
       "count  41188.000000  41188.000000  \n",
       "mean    5167.035911    258.285010  \n",
       "std       72.251528    259.279249  \n",
       "min     4963.600000      0.000000  \n",
       "25%     5099.100000    102.000000  \n",
       "50%     5191.000000    180.000000  \n",
       "75%     5228.100000    319.000000  \n",
       "max     5228.100000   4918.000000  "
      ]
     },
     "execution_count": 6,
     "metadata": {},
     "output_type": "execute_result"
    }
   ],
   "source": [
    "# Data analysis (numeric variables)\n",
    "\n",
    "df.describe()"
   ]
  },
  {
   "cell_type": "code",
   "execution_count": 7,
   "id": "93a85984",
   "metadata": {},
   "outputs": [
    {
     "data": {
      "text/plain": [
       "no     36548\n",
       "yes     4640\n",
       "Name: deposit, dtype: int64"
      ]
     },
     "execution_count": 7,
     "metadata": {},
     "output_type": "execute_result"
    }
   ],
   "source": [
    "# Check deposit values\n",
    "\n",
    "df['deposit'].value_counts()"
   ]
  },
  {
   "cell_type": "markdown",
   "id": "e5411034",
   "metadata": {},
   "source": [
    "There is data imbalance problem in the output variable. To correct the unbalanced data, the subsampling technique is used. The majority data is reduced until it reaches the same amount as the minority data. Removal of excess data\n",
    "is done randomly."
   ]
  },
  {
   "cell_type": "markdown",
   "id": "a32f3439",
   "metadata": {},
   "source": [
    "### Subsampling Technique"
   ]
  },
  {
   "cell_type": "code",
   "execution_count": 8,
   "id": "7e9c5c8b",
   "metadata": {},
   "outputs": [
    {
     "data": {
      "text/html": [
       "<div>\n",
       "<style scoped>\n",
       "    .dataframe tbody tr th:only-of-type {\n",
       "        vertical-align: middle;\n",
       "    }\n",
       "\n",
       "    .dataframe tbody tr th {\n",
       "        vertical-align: top;\n",
       "    }\n",
       "\n",
       "    .dataframe thead th {\n",
       "        text-align: right;\n",
       "    }\n",
       "</style>\n",
       "<table border=\"1\" class=\"dataframe\">\n",
       "  <thead>\n",
       "    <tr style=\"text-align: right;\">\n",
       "      <th></th>\n",
       "      <th>age</th>\n",
       "      <th>job</th>\n",
       "      <th>marital</th>\n",
       "      <th>education</th>\n",
       "      <th>default</th>\n",
       "      <th>housing</th>\n",
       "      <th>loan</th>\n",
       "      <th>contact</th>\n",
       "      <th>emp.var.rate</th>\n",
       "      <th>cons.price.idx</th>\n",
       "      <th>cons.conf.idx</th>\n",
       "      <th>euribor3m</th>\n",
       "      <th>nr.employed</th>\n",
       "      <th>deposit</th>\n",
       "      <th>duration</th>\n",
       "    </tr>\n",
       "  </thead>\n",
       "  <tbody>\n",
       "    <tr>\n",
       "      <th>0</th>\n",
       "      <td>24</td>\n",
       "      <td>blue-collar</td>\n",
       "      <td>single</td>\n",
       "      <td>basic.9y</td>\n",
       "      <td>no</td>\n",
       "      <td>no</td>\n",
       "      <td>no</td>\n",
       "      <td>telephone</td>\n",
       "      <td>1.1</td>\n",
       "      <td>93.994</td>\n",
       "      <td>-36.4</td>\n",
       "      <td>4.857</td>\n",
       "      <td>5191.0</td>\n",
       "      <td>no</td>\n",
       "      <td>282</td>\n",
       "    </tr>\n",
       "    <tr>\n",
       "      <th>1</th>\n",
       "      <td>32</td>\n",
       "      <td>self-employed</td>\n",
       "      <td>single</td>\n",
       "      <td>university.degree</td>\n",
       "      <td>no</td>\n",
       "      <td>yes</td>\n",
       "      <td>no</td>\n",
       "      <td>cellular</td>\n",
       "      <td>-3.0</td>\n",
       "      <td>92.713</td>\n",
       "      <td>-33.0</td>\n",
       "      <td>0.706</td>\n",
       "      <td>5023.5</td>\n",
       "      <td>yes</td>\n",
       "      <td>205</td>\n",
       "    </tr>\n",
       "    <tr>\n",
       "      <th>2</th>\n",
       "      <td>51</td>\n",
       "      <td>technician</td>\n",
       "      <td>married</td>\n",
       "      <td>professional.course</td>\n",
       "      <td>no</td>\n",
       "      <td>yes</td>\n",
       "      <td>no</td>\n",
       "      <td>cellular</td>\n",
       "      <td>1.4</td>\n",
       "      <td>93.444</td>\n",
       "      <td>-36.1</td>\n",
       "      <td>4.968</td>\n",
       "      <td>5228.1</td>\n",
       "      <td>no</td>\n",
       "      <td>291</td>\n",
       "    </tr>\n",
       "    <tr>\n",
       "      <th>3</th>\n",
       "      <td>36</td>\n",
       "      <td>self-employed</td>\n",
       "      <td>married</td>\n",
       "      <td>university.degree</td>\n",
       "      <td>no</td>\n",
       "      <td>yes</td>\n",
       "      <td>no</td>\n",
       "      <td>cellular</td>\n",
       "      <td>-1.8</td>\n",
       "      <td>92.893</td>\n",
       "      <td>-46.2</td>\n",
       "      <td>1.264</td>\n",
       "      <td>5099.1</td>\n",
       "      <td>yes</td>\n",
       "      <td>414</td>\n",
       "    </tr>\n",
       "    <tr>\n",
       "      <th>4</th>\n",
       "      <td>43</td>\n",
       "      <td>services</td>\n",
       "      <td>married</td>\n",
       "      <td>professional.course</td>\n",
       "      <td>no</td>\n",
       "      <td>yes</td>\n",
       "      <td>no</td>\n",
       "      <td>cellular</td>\n",
       "      <td>1.4</td>\n",
       "      <td>93.918</td>\n",
       "      <td>-42.7</td>\n",
       "      <td>4.960</td>\n",
       "      <td>5228.1</td>\n",
       "      <td>no</td>\n",
       "      <td>451</td>\n",
       "    </tr>\n",
       "    <tr>\n",
       "      <th>5</th>\n",
       "      <td>38</td>\n",
       "      <td>admin.</td>\n",
       "      <td>married</td>\n",
       "      <td>university.degree</td>\n",
       "      <td>no</td>\n",
       "      <td>no</td>\n",
       "      <td>no</td>\n",
       "      <td>cellular</td>\n",
       "      <td>1.4</td>\n",
       "      <td>93.444</td>\n",
       "      <td>-36.1</td>\n",
       "      <td>4.963</td>\n",
       "      <td>5228.1</td>\n",
       "      <td>no</td>\n",
       "      <td>177</td>\n",
       "    </tr>\n",
       "    <tr>\n",
       "      <th>6</th>\n",
       "      <td>32</td>\n",
       "      <td>admin.</td>\n",
       "      <td>single</td>\n",
       "      <td>university.degree</td>\n",
       "      <td>no</td>\n",
       "      <td>yes</td>\n",
       "      <td>no</td>\n",
       "      <td>cellular</td>\n",
       "      <td>-2.9</td>\n",
       "      <td>92.469</td>\n",
       "      <td>-33.6</td>\n",
       "      <td>1.029</td>\n",
       "      <td>5076.2</td>\n",
       "      <td>yes</td>\n",
       "      <td>210</td>\n",
       "    </tr>\n",
       "    <tr>\n",
       "      <th>7</th>\n",
       "      <td>28</td>\n",
       "      <td>admin.</td>\n",
       "      <td>single</td>\n",
       "      <td>university.degree</td>\n",
       "      <td>no</td>\n",
       "      <td>no</td>\n",
       "      <td>no</td>\n",
       "      <td>cellular</td>\n",
       "      <td>-2.9</td>\n",
       "      <td>92.201</td>\n",
       "      <td>-31.4</td>\n",
       "      <td>0.879</td>\n",
       "      <td>5076.2</td>\n",
       "      <td>no</td>\n",
       "      <td>202</td>\n",
       "    </tr>\n",
       "    <tr>\n",
       "      <th>8</th>\n",
       "      <td>66</td>\n",
       "      <td>admin.</td>\n",
       "      <td>married</td>\n",
       "      <td>university.degree</td>\n",
       "      <td>no</td>\n",
       "      <td>no</td>\n",
       "      <td>no</td>\n",
       "      <td>cellular</td>\n",
       "      <td>-3.4</td>\n",
       "      <td>92.379</td>\n",
       "      <td>-29.8</td>\n",
       "      <td>0.770</td>\n",
       "      <td>5017.5</td>\n",
       "      <td>no</td>\n",
       "      <td>39</td>\n",
       "    </tr>\n",
       "    <tr>\n",
       "      <th>9</th>\n",
       "      <td>42</td>\n",
       "      <td>admin.</td>\n",
       "      <td>divorced</td>\n",
       "      <td>high.school</td>\n",
       "      <td>no</td>\n",
       "      <td>yes</td>\n",
       "      <td>no</td>\n",
       "      <td>telephone</td>\n",
       "      <td>1.1</td>\n",
       "      <td>93.994</td>\n",
       "      <td>-36.4</td>\n",
       "      <td>4.860</td>\n",
       "      <td>5191.0</td>\n",
       "      <td>no</td>\n",
       "      <td>119</td>\n",
       "    </tr>\n",
       "  </tbody>\n",
       "</table>\n",
       "</div>"
      ],
      "text/plain": [
       "   age            job   marital            education default housing loan  \\\n",
       "0   24    blue-collar    single             basic.9y      no      no   no   \n",
       "1   32  self-employed    single    university.degree      no     yes   no   \n",
       "2   51     technician   married  professional.course      no     yes   no   \n",
       "3   36  self-employed   married    university.degree      no     yes   no   \n",
       "4   43       services   married  professional.course      no     yes   no   \n",
       "5   38         admin.   married    university.degree      no      no   no   \n",
       "6   32         admin.    single    university.degree      no     yes   no   \n",
       "7   28         admin.    single    university.degree      no      no   no   \n",
       "8   66         admin.   married    university.degree      no      no   no   \n",
       "9   42         admin.  divorced          high.school      no     yes   no   \n",
       "\n",
       "     contact  emp.var.rate  cons.price.idx  cons.conf.idx  euribor3m  \\\n",
       "0  telephone           1.1          93.994          -36.4      4.857   \n",
       "1   cellular          -3.0          92.713          -33.0      0.706   \n",
       "2   cellular           1.4          93.444          -36.1      4.968   \n",
       "3   cellular          -1.8          92.893          -46.2      1.264   \n",
       "4   cellular           1.4          93.918          -42.7      4.960   \n",
       "5   cellular           1.4          93.444          -36.1      4.963   \n",
       "6   cellular          -2.9          92.469          -33.6      1.029   \n",
       "7   cellular          -2.9          92.201          -31.4      0.879   \n",
       "8   cellular          -3.4          92.379          -29.8      0.770   \n",
       "9  telephone           1.1          93.994          -36.4      4.860   \n",
       "\n",
       "   nr.employed deposit  duration  \n",
       "0       5191.0      no       282  \n",
       "1       5023.5     yes       205  \n",
       "2       5228.1      no       291  \n",
       "3       5099.1     yes       414  \n",
       "4       5228.1      no       451  \n",
       "5       5228.1      no       177  \n",
       "6       5076.2     yes       210  \n",
       "7       5076.2      no       202  \n",
       "8       5017.5      no        39  \n",
       "9       5191.0      no       119  "
      ]
     },
     "execution_count": 8,
     "metadata": {},
     "output_type": "execute_result"
    }
   ],
   "source": [
    "# Resampling\n",
    "\n",
    "majority_class = np.array(df[df['deposit'] == 'no'].index.tolist())\n",
    "minority_class = np.array(df[df['deposit'] == 'yes'].index.tolist())\n",
    "\n",
    "np.random.seed(0)\n",
    "undersample = np.random.choice(majority_class, size=len(minority_class), replace=False)\n",
    "resample = np.concatenate((minority_class, undersample))\n",
    "\n",
    "df = df.loc[resample].sample(frac=1, replace=False).reset_index(drop=True)\n",
    "df.head(10)"
   ]
  },
  {
   "cell_type": "code",
   "execution_count": 9,
   "id": "3d6a71fc",
   "metadata": {},
   "outputs": [
    {
     "data": {
      "image/png": "[encoded data removed]",
      "text/plain": [
       "<Figure size 1100x400 with 2 Axes>"
      ]
     },
     "metadata": {},
     "output_type": "display_data"
    }
   ],
   "source": [
    "# Show resampling process\n",
    "\n",
    "fig, axes = plt.subplots(1, 2, figsize=(11,4))\n",
    "\n",
    "deposit_yes_amount = (pre_df['y'] == 'yes').sum()\n",
    "\n",
    "axes[0].bar(x=pre_df['y'].unique(), height=pre_df['y'].value_counts())\n",
    "axes[0].set_title('Pre-Resampling')\n",
    "axes[0].set_xlabel('Deposit')\n",
    "axes[0].set_ylabel('Frequency')\n",
    "axes[0].axhline(y=deposit_yes_amount, color='red', linestyle='--')\n",
    "\n",
    "axes[1].bar(x=pre_df['y'].unique(), height=df['deposit'].value_counts())\n",
    "axes[1].set_title('Post-Resampling')\n",
    "axes[1].set_xlabel('Deposit')\n",
    "axes[1].set_ylabel('Frequency')\n",
    "axes[1].axhline(y=deposit_yes_amount, color='red', linestyle='--')\n",
    "\n",
    "plt.show()"
   ]
  },
  {
   "cell_type": "markdown",
   "id": "c0c40cc6",
   "metadata": {},
   "source": [
    "There is now the same proportion of data for yes and no. Although it considerably reduces the amount of data available, the models will be able to obtain better results due to the balancing of the output variable."
   ]
  },
  {
   "cell_type": "markdown",
   "id": "62a12e3f",
   "metadata": {},
   "source": [
    "### Multicollinearity analysis"
   ]
  },
  {
   "cell_type": "code",
   "execution_count": 10,
   "id": "c225794d",
   "metadata": {},
   "outputs": [
    {
     "data": {
      "image/png": "[encoded data removed]",
      "text/plain": [
       "<Figure size 800x600 with 2 Axes>"
      ]
     },
     "metadata": {},
     "output_type": "display_data"
    }
   ],
   "source": [
    "# Correlation matrix\n",
    "\n",
    "plt.figure(figsize=(8, 6))\n",
    "sns.heatmap(df.corr(), annot=True, cmap='coolwarm', fmt='.2f')\n",
    "plt.title('Correlation Matrix')\n",
    "plt.show()"
   ]
  },
  {
   "cell_type": "code",
   "execution_count": 11,
   "id": "2ef6fa19",
   "metadata": {},
   "outputs": [
    {
     "data": {
      "image/png": "[encoded data removed]",
      "text/plain": [
       "<Figure size 800x600 with 2 Axes>"
      ]
     },
     "metadata": {},
     "output_type": "display_data"
    }
   ],
   "source": [
    "# Correlation matrix after fixing collinearity between variables\n",
    "\n",
    "df = df.drop(['emp.var.rate', 'euribor3m'], axis=1)\n",
    "\n",
    "plt.figure(figsize=(8, 6))\n",
    "sns.heatmap(df.corr(), annot=True, cmap='coolwarm', fmt='.2f')\n",
    "plt.title('Correlation Matrix')\n",
    "plt.show()"
   ]
  },
  {
   "cell_type": "markdown",
   "id": "e0fdfeb2",
   "metadata": {},
   "source": [
    "Note that removing the variables emp.var.rate and euribor3m corrects the strong\n",
    "correlation between the variables without the need to also remove cons.price.idx and\n",
    "nr.employed."
   ]
  },
  {
   "cell_type": "markdown",
   "id": "a0cd14df",
   "metadata": {},
   "source": [
    "### Data Transformation"
   ]
  },
  {
   "cell_type": "code",
   "execution_count": 12,
   "id": "24dbc42e",
   "metadata": {},
   "outputs": [
    {
     "data": {
      "text/html": [
       "<div>\n",
       "<style scoped>\n",
       "    .dataframe tbody tr th:only-of-type {\n",
       "        vertical-align: middle;\n",
       "    }\n",
       "\n",
       "    .dataframe tbody tr th {\n",
       "        vertical-align: top;\n",
       "    }\n",
       "\n",
       "    .dataframe thead th {\n",
       "        text-align: right;\n",
       "    }\n",
       "</style>\n",
       "<table border=\"1\" class=\"dataframe\">\n",
       "  <thead>\n",
       "    <tr style=\"text-align: right;\">\n",
       "      <th></th>\n",
       "      <th>age</th>\n",
       "      <th>contact</th>\n",
       "      <th>cons.price.idx</th>\n",
       "      <th>cons.conf.idx</th>\n",
       "      <th>nr.employed</th>\n",
       "      <th>deposit</th>\n",
       "      <th>duration</th>\n",
       "      <th>job_admin.</th>\n",
       "      <th>job_blue-collar</th>\n",
       "      <th>job_entrepreneur</th>\n",
       "      <th>...</th>\n",
       "      <th>education_university.degree</th>\n",
       "      <th>education_unknown</th>\n",
       "      <th>default_no</th>\n",
       "      <th>default_unknown</th>\n",
       "      <th>housing_no</th>\n",
       "      <th>housing_unknown</th>\n",
       "      <th>housing_yes</th>\n",
       "      <th>loan_no</th>\n",
       "      <th>loan_unknown</th>\n",
       "      <th>loan_yes</th>\n",
       "    </tr>\n",
       "  </thead>\n",
       "  <tbody>\n",
       "    <tr>\n",
       "      <th>0</th>\n",
       "      <td>-1.371508</td>\n",
       "      <td>1</td>\n",
       "      <td>0.811523</td>\n",
       "      <td>0.707136</td>\n",
       "      <td>0.640035</td>\n",
       "      <td>0</td>\n",
       "      <td>-0.286681</td>\n",
       "      <td>0.0</td>\n",
       "      <td>1.0</td>\n",
       "      <td>0.0</td>\n",
       "      <td>...</td>\n",
       "      <td>0.0</td>\n",
       "      <td>0.0</td>\n",
       "      <td>1.0</td>\n",
       "      <td>0.0</td>\n",
       "      <td>1.0</td>\n",
       "      <td>0.0</td>\n",
       "      <td>0.0</td>\n",
       "      <td>1.0</td>\n",
       "      <td>0.0</td>\n",
       "      <td>0.0</td>\n",
       "    </tr>\n",
       "    <tr>\n",
       "      <th>1</th>\n",
       "      <td>-0.701718</td>\n",
       "      <td>0</td>\n",
       "      <td>-1.210558</td>\n",
       "      <td>1.342659</td>\n",
       "      <td>-1.285155</td>\n",
       "      <td>1</td>\n",
       "      <td>-0.499719</td>\n",
       "      <td>0.0</td>\n",
       "      <td>0.0</td>\n",
       "      <td>0.0</td>\n",
       "      <td>...</td>\n",
       "      <td>1.0</td>\n",
       "      <td>0.0</td>\n",
       "      <td>1.0</td>\n",
       "      <td>0.0</td>\n",
       "      <td>0.0</td>\n",
       "      <td>0.0</td>\n",
       "      <td>1.0</td>\n",
       "      <td>1.0</td>\n",
       "      <td>0.0</td>\n",
       "      <td>0.0</td>\n",
       "    </tr>\n",
       "    <tr>\n",
       "      <th>2</th>\n",
       "      <td>0.889032</td>\n",
       "      <td>0</td>\n",
       "      <td>-0.056661</td>\n",
       "      <td>0.763212</td>\n",
       "      <td>1.066451</td>\n",
       "      <td>0</td>\n",
       "      <td>-0.261780</td>\n",
       "      <td>0.0</td>\n",
       "      <td>0.0</td>\n",
       "      <td>0.0</td>\n",
       "      <td>...</td>\n",
       "      <td>0.0</td>\n",
       "      <td>0.0</td>\n",
       "      <td>1.0</td>\n",
       "      <td>0.0</td>\n",
       "      <td>0.0</td>\n",
       "      <td>0.0</td>\n",
       "      <td>1.0</td>\n",
       "      <td>1.0</td>\n",
       "      <td>0.0</td>\n",
       "      <td>0.0</td>\n",
       "    </tr>\n",
       "    <tr>\n",
       "      <th>3</th>\n",
       "      <td>-0.366824</td>\n",
       "      <td>0</td>\n",
       "      <td>-0.926425</td>\n",
       "      <td>-1.124665</td>\n",
       "      <td>-0.416233</td>\n",
       "      <td>1</td>\n",
       "      <td>0.078527</td>\n",
       "      <td>0.0</td>\n",
       "      <td>0.0</td>\n",
       "      <td>0.0</td>\n",
       "      <td>...</td>\n",
       "      <td>1.0</td>\n",
       "      <td>0.0</td>\n",
       "      <td>1.0</td>\n",
       "      <td>0.0</td>\n",
       "      <td>0.0</td>\n",
       "      <td>0.0</td>\n",
       "      <td>1.0</td>\n",
       "      <td>1.0</td>\n",
       "      <td>0.0</td>\n",
       "      <td>0.0</td>\n",
       "    </tr>\n",
       "    <tr>\n",
       "      <th>4</th>\n",
       "      <td>0.219242</td>\n",
       "      <td>0</td>\n",
       "      <td>0.691556</td>\n",
       "      <td>-0.470450</td>\n",
       "      <td>1.066451</td>\n",
       "      <td>0</td>\n",
       "      <td>0.180896</td>\n",
       "      <td>0.0</td>\n",
       "      <td>0.0</td>\n",
       "      <td>0.0</td>\n",
       "      <td>...</td>\n",
       "      <td>0.0</td>\n",
       "      <td>0.0</td>\n",
       "      <td>1.0</td>\n",
       "      <td>0.0</td>\n",
       "      <td>0.0</td>\n",
       "      <td>0.0</td>\n",
       "      <td>1.0</td>\n",
       "      <td>1.0</td>\n",
       "      <td>0.0</td>\n",
       "      <td>0.0</td>\n",
       "    </tr>\n",
       "  </tbody>\n",
       "</table>\n",
       "<p>5 rows × 39 columns</p>\n",
       "</div>"
      ],
      "text/plain": [
       "        age  contact  cons.price.idx  cons.conf.idx  nr.employed  deposit  \\\n",
       "0 -1.371508        1        0.811523       0.707136     0.640035        0   \n",
       "1 -0.701718        0       -1.210558       1.342659    -1.285155        1   \n",
       "2  0.889032        0       -0.056661       0.763212     1.066451        0   \n",
       "3 -0.366824        0       -0.926425      -1.124665    -0.416233        1   \n",
       "4  0.219242        0        0.691556      -0.470450     1.066451        0   \n",
       "\n",
       "   duration  job_admin.  job_blue-collar  job_entrepreneur  ...  \\\n",
       "0 -0.286681         0.0              1.0               0.0  ...   \n",
       "1 -0.499719         0.0              0.0               0.0  ...   \n",
       "2 -0.261780         0.0              0.0               0.0  ...   \n",
       "3  0.078527         0.0              0.0               0.0  ...   \n",
       "4  0.180896         0.0              0.0               0.0  ...   \n",
       "\n",
       "   education_university.degree  education_unknown  default_no  \\\n",
       "0                          0.0                0.0         1.0   \n",
       "1                          1.0                0.0         1.0   \n",
       "2                          0.0                0.0         1.0   \n",
       "3                          1.0                0.0         1.0   \n",
       "4                          0.0                0.0         1.0   \n",
       "\n",
       "   default_unknown  housing_no  housing_unknown  housing_yes  loan_no  \\\n",
       "0              0.0         1.0              0.0          0.0      1.0   \n",
       "1              0.0         0.0              0.0          1.0      1.0   \n",
       "2              0.0         0.0              0.0          1.0      1.0   \n",
       "3              0.0         0.0              0.0          1.0      1.0   \n",
       "4              0.0         0.0              0.0          1.0      1.0   \n",
       "\n",
       "   loan_unknown  loan_yes  \n",
       "0           0.0       0.0  \n",
       "1           0.0       0.0  \n",
       "2           0.0       0.0  \n",
       "3           0.0       0.0  \n",
       "4           0.0       0.0  \n",
       "\n",
       "[5 rows x 39 columns]"
      ]
     },
     "execution_count": 12,
     "metadata": {},
     "output_type": "execute_result"
    }
   ],
   "source": [
    "### Encoder ###\n",
    "\n",
    "# Standard scaler\n",
    "\n",
    "scaler_list = ['age', 'duration', 'cons.price.idx', 'cons.conf.idx', 'nr.employed']\n",
    "\n",
    "for column in scaler_list:\n",
    "    scaler = StandardScaler()\n",
    "    df[column] = scaler.fit_transform(df[column].values.reshape(-1,1))\n",
    "\n",
    "# Label encoder\n",
    "\n",
    "label_list = ['contact', 'deposit']\n",
    "\n",
    "for column in label_list:\n",
    "    label_encoder = LabelEncoder()\n",
    "    df[column] = label_encoder.fit_transform(df[column].values.ravel())\n",
    "\n",
    "\n",
    "# One hot encoder\n",
    "\n",
    "encode_list = ['job', 'marital', 'education', 'default', 'housing', 'loan']\n",
    "one_hot_encoder = OneHotEncoder(sparse=False)\n",
    "\n",
    "for column in encode_list:\n",
    "    encoded_columns = one_hot_encoder.fit_transform(df[column].values.reshape(-1,1))\n",
    "    encoded_df = pd.DataFrame(encoded_columns, columns=one_hot_encoder.get_feature_names_out([column]))\n",
    "    df = pd.concat([df.drop(columns=[column]), encoded_df], axis=1)\n",
    "    \n",
    "df.head()"
   ]
  },
  {
   "cell_type": "markdown",
   "id": "65a36b67",
   "metadata": {},
   "source": [
    "## Training Models"
   ]
  },
  {
   "cell_type": "code",
   "execution_count": 13,
   "id": "1b6f8577",
   "metadata": {},
   "outputs": [],
   "source": [
    "# Training and resampling data\n",
    "\n",
    "mean_models = []\n",
    "\n",
    "X = df.drop('deposit', axis=1)\n",
    "y = df['deposit']\n",
    "\n",
    "X_train, X_test, y_train, y_test = train_test_split(X, y, test_size=0.2, random_state=0)"
   ]
  },
  {
   "cell_type": "markdown",
   "id": "7fb36eaa",
   "metadata": {},
   "source": [
    "### Naive Bayes"
   ]
  },
  {
   "cell_type": "code",
   "execution_count": 14,
   "id": "f78549fa",
   "metadata": {},
   "outputs": [],
   "source": [
    "# Naive Bayes (model)\n",
    "\n",
    "nb_model = GaussianNB()\n",
    "nb_model.fit(X_train.values, y_train.values)\n",
    "\n",
    "nb_predictions = nb_model.predict(X_test.values)"
   ]
  },
  {
   "cell_type": "code",
   "execution_count": 15,
   "id": "02fa359b",
   "metadata": {},
   "outputs": [
    {
     "data": {
      "image/png": "[encoded data removed]",
      "text/plain": [
       "<Figure size 800x550 with 1 Axes>"
      ]
     },
     "metadata": {},
     "output_type": "display_data"
    }
   ],
   "source": [
    "# Naive Bayes (confusion matrix)\n",
    "\n",
    "nb_confusion_matrix = ConfusionMatrix(nb_model, classes=nb_model.classes_)\n",
    "nb_confusion_matrix.fit(X_train.values, y_train.values)\n",
    "nb_confusion_matrix.score(X_test.values, y_test.values)\n",
    "mean_models.append(nb_confusion_matrix.score_)"
   ]
  },
  {
   "cell_type": "code",
   "execution_count": 16,
   "id": "ba3b4954",
   "metadata": {},
   "outputs": [
    {
     "name": "stdout",
     "output_type": "stream",
     "text": [
      "              precision    recall  f1-score   support\n",
      "\n",
      "           0       0.71      0.82      0.76       899\n",
      "           1       0.81      0.69      0.74       957\n",
      "\n",
      "    accuracy                           0.75      1856\n",
      "   macro avg       0.76      0.76      0.75      1856\n",
      "weighted avg       0.76      0.75      0.75      1856\n",
      "\n"
     ]
    }
   ],
   "source": [
    "# Naive Bayes (classification report)\n",
    "\n",
    "print(classification_report(y_test, nb_predictions))"
   ]
  },
  {
   "cell_type": "markdown",
   "id": "561328ac",
   "metadata": {},
   "source": [
    "### Decision Trees"
   ]
  },
  {
   "cell_type": "code",
   "execution_count": 17,
   "id": "fc4e718a",
   "metadata": {},
   "outputs": [
    {
     "name": "stdout",
     "output_type": "stream",
     "text": [
      "Best params: {'criterion': 'gini', 'min_samples_leaf': 10, 'min_samples_split': 5, 'splitter': 'random'}\n",
      "Best score: 0.8651673064880612\n"
     ]
    }
   ],
   "source": [
    "# Decision trees (grid search)\n",
    "\n",
    "dt_params = {'criterion': ['gini', 'entropy'],\n",
    "             'splitter': ['best', 'random'],\n",
    "             'min_samples_split': [2, 5, 10],\n",
    "             'min_samples_leaf': [1, 5, 10]}\n",
    "\n",
    "dt_gridsearch = GridSearchCV(estimator=DecisionTreeClassifier(), param_grid=dt_params)\n",
    "dt_gridsearch.fit(X_train.values, y_train.values)\n",
    "print(f'''Best params: {dt_gridsearch.best_params_}\n",
    "Best score: {dt_gridsearch.best_score_}''')"
   ]
  },
  {
   "cell_type": "code",
   "execution_count": 18,
   "id": "35d92dee",
   "metadata": {},
   "outputs": [],
   "source": [
    "# Decision trees (model)\n",
    "\n",
    "dt_model = DecisionTreeClassifier(criterion='gini', min_samples_leaf=10, min_samples_split=5, splitter='random')\n",
    "dt_model.fit(X_train.values, y_train.values)\n",
    "\n",
    "dt_predictions = dt_model.predict(X_test.values)"
   ]
  },
  {
   "cell_type": "code",
   "execution_count": 19,
   "id": "6f78c172",
   "metadata": {},
   "outputs": [
    {
     "data": {
      "image/png": "[encoded data removed]",
      "text/plain": [
       "<Figure size 800x550 with 1 Axes>"
      ]
     },
     "metadata": {},
     "output_type": "display_data"
    }
   ],
   "source": [
    "# Decision trees (confusion matrix)\n",
    "\n",
    "dt_confusion_matrix = ConfusionMatrix(dt_model, classes=dt_model.classes_)\n",
    "dt_confusion_matrix.fit(X_train.values, y_train.values)\n",
    "dt_confusion_matrix.score(X_test.values, y_test.values)\n",
    "mean_models.append(dt_confusion_matrix.score_)"
   ]
  },
  {
   "cell_type": "code",
   "execution_count": 20,
   "id": "67a9fe6a",
   "metadata": {},
   "outputs": [
    {
     "name": "stdout",
     "output_type": "stream",
     "text": [
      "              precision    recall  f1-score   support\n",
      "\n",
      "           0       0.89      0.83      0.86       899\n",
      "           1       0.85      0.90      0.88       957\n",
      "\n",
      "    accuracy                           0.87      1856\n",
      "   macro avg       0.87      0.87      0.87      1856\n",
      "weighted avg       0.87      0.87      0.87      1856\n",
      "\n"
     ]
    }
   ],
   "source": [
    "# Decision trees (classification report)\n",
    "\n",
    "print(classification_report(y_test, dt_predictions))"
   ]
  },
  {
   "cell_type": "markdown",
   "id": "265df3ac",
   "metadata": {},
   "source": [
    "### Random Forest"
   ]
  },
  {
   "cell_type": "code",
   "execution_count": 21,
   "id": "98dce890",
   "metadata": {},
   "outputs": [
    {
     "name": "stdout",
     "output_type": "stream",
     "text": [
      "Best params: {'criterion': 'gini', 'min_samples_leaf': 5, 'min_samples_split': 10, 'n_estimators': 100}\n",
      "Best score: 0.8834859829199452\n"
     ]
    }
   ],
   "source": [
    "# Random Forest (grid search)\n",
    "\n",
    "rf_params = {'criterion': ['gini', 'entropy'],\n",
    "             'n_estimators': [10, 25, 50, 100],\n",
    "             'min_samples_split': [2, 5, 10],\n",
    "             'min_samples_leaf': [1, 5, 10]}\n",
    "\n",
    "rf_gridsearch = GridSearchCV(estimator=RandomForestClassifier(), param_grid=rf_params)\n",
    "rf_gridsearch.fit(X_train.values, y_train.values)\n",
    "print(f'''Best params: {rf_gridsearch.best_params_}\n",
    "Best score: {rf_gridsearch.best_score_}''')"
   ]
  },
  {
   "cell_type": "code",
   "execution_count": 22,
   "id": "336b9d5d",
   "metadata": {},
   "outputs": [],
   "source": [
    "# Random Forest\n",
    "\n",
    "rf_model = RandomForestClassifier(criterion='gini', min_samples_leaf=5, min_samples_split=10, n_estimators=100)\n",
    "rf_model.fit(X_train.values, y_train.values)\n",
    "\n",
    "rf_predictions = rf_model.predict(X_test.values)"
   ]
  },
  {
   "cell_type": "code",
   "execution_count": 23,
   "id": "5896c5f4",
   "metadata": {},
   "outputs": [
    {
     "data": {
      "image/png": "[encoded data removed]",
      "text/plain": [
       "<Figure size 800x550 with 1 Axes>"
      ]
     },
     "metadata": {},
     "output_type": "display_data"
    }
   ],
   "source": [
    "# Random Forest (confusion matrix)\n",
    "\n",
    "rf_confusion_matrix = ConfusionMatrix(rf_model, classes=rf_model.classes_)\n",
    "rf_confusion_matrix.fit(X_train.values, y_train.values)\n",
    "rf_confusion_matrix.score(X_test.values, y_test.values)\n",
    "mean_models.append(rf_confusion_matrix.score_)"
   ]
  },
  {
   "cell_type": "code",
   "execution_count": 24,
   "id": "289443f3",
   "metadata": {},
   "outputs": [
    {
     "name": "stdout",
     "output_type": "stream",
     "text": [
      "              precision    recall  f1-score   support\n",
      "\n",
      "           0       0.92      0.84      0.88       899\n",
      "           1       0.86      0.93      0.89       957\n",
      "\n",
      "    accuracy                           0.88      1856\n",
      "   macro avg       0.89      0.88      0.88      1856\n",
      "weighted avg       0.89      0.88      0.88      1856\n",
      "\n"
     ]
    }
   ],
   "source": [
    "# Random Forest (classification report)\n",
    "\n",
    "print(classification_report(y_test, rf_predictions))"
   ]
  },
  {
   "cell_type": "markdown",
   "id": "b0523bd9",
   "metadata": {},
   "source": [
    "### XGBoost"
   ]
  },
  {
   "cell_type": "code",
   "execution_count": 25,
   "id": "ed3ffddb",
   "metadata": {},
   "outputs": [
    {
     "name": "stdout",
     "output_type": "stream",
     "text": [
      "Best params: {'gamma': 0.3, 'max_depth': 5, 'n_estimators': 50}\n",
      "Best score: 0.8842937914636029\n"
     ]
    }
   ],
   "source": [
    "# XGBoost (grid search)\n",
    "\n",
    "xgb_params = {'max_depth': [2, 3, 5],\n",
    "              'n_estimators': [10, 25, 50, 100],\n",
    "              'gamma': [0.1, 0.2, 0.3]}\n",
    "\n",
    "xgb_gridsearch = GridSearchCV(estimator=XGBClassifier(), param_grid=xgb_params)\n",
    "xgb_gridsearch.fit(X_train.values, y_train.values)\n",
    "print(f'''Best params: {xgb_gridsearch.best_params_}\n",
    "Best score: {xgb_gridsearch.best_score_}''')"
   ]
  },
  {
   "cell_type": "code",
   "execution_count": 26,
   "id": "f6e4acce",
   "metadata": {},
   "outputs": [],
   "source": [
    "# XGBoost (model)\n",
    "\n",
    "xgb_model = XGBClassifier(gamma=0.3, max_depth=5, n_estimators=50)\n",
    "xgb_model.fit(X_train.values, y_train.values)\n",
    "\n",
    "xgb_predictions = xgb_model.predict(X_test.values)"
   ]
  },
  {
   "cell_type": "code",
   "execution_count": 27,
   "id": "e4849751",
   "metadata": {},
   "outputs": [
    {
     "data": {
      "image/png": "[encoded data removed]",
      "text/plain": [
       "<Figure size 800x550 with 1 Axes>"
      ]
     },
     "metadata": {},
     "output_type": "display_data"
    }
   ],
   "source": [
    "# XGBoost (confusion matrix)\n",
    "\n",
    "xgb_confusion_matrix = ConfusionMatrix(xgb_model, classes=xgb_model.classes_)\n",
    "xgb_confusion_matrix.fit(X_train.values, y_train.values)\n",
    "xgb_confusion_matrix.score(X_test.values, y_test.values)\n",
    "mean_models.append(xgb_confusion_matrix.score_)"
   ]
  },
  {
   "cell_type": "code",
   "execution_count": 28,
   "id": "f22c4c31",
   "metadata": {},
   "outputs": [
    {
     "name": "stdout",
     "output_type": "stream",
     "text": [
      "              precision    recall  f1-score   support\n",
      "\n",
      "           0       0.91      0.85      0.88       899\n",
      "           1       0.87      0.92      0.89       957\n",
      "\n",
      "    accuracy                           0.89      1856\n",
      "   macro avg       0.89      0.88      0.89      1856\n",
      "weighted avg       0.89      0.89      0.89      1856\n",
      "\n"
     ]
    }
   ],
   "source": [
    "# XGBoost (classification report)\n",
    "\n",
    "print(classification_report(y_test, xgb_predictions))"
   ]
  },
  {
   "cell_type": "markdown",
   "id": "86a79fd1",
   "metadata": {},
   "source": [
    "### K-Nearest Nightbors"
   ]
  },
  {
   "cell_type": "code",
   "execution_count": 29,
   "id": "9f141e60",
   "metadata": {},
   "outputs": [
    {
     "name": "stdout",
     "output_type": "stream",
     "text": [
      "Best params: {'n_neighbors': 25, 'p': 2}\n",
      "Best score: 0.8410562044524308\n"
     ]
    }
   ],
   "source": [
    "# K-Nearest Neighbors (grid search)\n",
    "\n",
    "knn_params = {'n_neighbors': [3, 5, 10, 25],\n",
    "             'p': [1, 2]}\n",
    "\n",
    "knn_gridsearch = GridSearchCV(estimator=KNeighborsClassifier(), param_grid=knn_params)\n",
    "knn_gridsearch.fit(X_train.values, y_train.values)\n",
    "print(f'''Best params: {knn_gridsearch.best_params_}\n",
    "Best score: {knn_gridsearch.best_score_}''')"
   ]
  },
  {
   "cell_type": "code",
   "execution_count": 30,
   "id": "1d1c5380",
   "metadata": {},
   "outputs": [],
   "source": [
    "# K-Nearest Neighbors (model)\n",
    "\n",
    "knn_model = KNeighborsClassifier(n_neighbors=25, p=2)\n",
    "knn_model.fit(X_train.values, y_train.values)\n",
    "\n",
    "knn_predictions = knn_model.predict(X_test.values)"
   ]
  },
  {
   "cell_type": "code",
   "execution_count": 31,
   "id": "92bb8cfc",
   "metadata": {},
   "outputs": [
    {
     "data": {
      "image/png": "[encoded data removed]",
      "text/plain": [
       "<Figure size 800x550 with 1 Axes>"
      ]
     },
     "metadata": {},
     "output_type": "display_data"
    }
   ],
   "source": [
    "# Confusion matrix\n",
    "\n",
    "knn_confusion_matrix = ConfusionMatrix(knn_model, classes=knn_model.classes_)\n",
    "knn_confusion_matrix.fit(X_train.values, y_train.values)\n",
    "knn_confusion_matrix.score(X_test.values, y_test.values)\n",
    "mean_models.append(knn_confusion_matrix.score_)"
   ]
  },
  {
   "cell_type": "code",
   "execution_count": 32,
   "id": "2164f885",
   "metadata": {},
   "outputs": [
    {
     "name": "stdout",
     "output_type": "stream",
     "text": [
      "              precision    recall  f1-score   support\n",
      "\n",
      "           0       0.83      0.85      0.84       899\n",
      "           1       0.86      0.84      0.85       957\n",
      "\n",
      "    accuracy                           0.84      1856\n",
      "   macro avg       0.84      0.85      0.84      1856\n",
      "weighted avg       0.85      0.84      0.84      1856\n",
      "\n"
     ]
    }
   ],
   "source": [
    "# Classification report\n",
    "\n",
    "print(classification_report(y_test, knn_predictions))"
   ]
  },
  {
   "cell_type": "markdown",
   "id": "4cbdf738",
   "metadata": {},
   "source": [
    "### Logistic Regression"
   ]
  },
  {
   "cell_type": "code",
   "execution_count": 33,
   "id": "000608b5",
   "metadata": {},
   "outputs": [
    {
     "name": "stdout",
     "output_type": "stream",
     "text": [
      "Best params: {'C': 1.5, 'solver': 'liblinear', 'tol': 0.001}\n",
      "Best score: 0.8550640275168577\n"
     ]
    }
   ],
   "source": [
    "# Logistic Regression (grid search)\n",
    "\n",
    "lr_params = {'tol': [0.001, 0.0001, 0.00001],\n",
    "             'C': [1.0, 1.5, 2.0],\n",
    "             'solver': ['liblinear', 'newton-cg']}\n",
    "\n",
    "lr_gridsearch = GridSearchCV(estimator=LogisticRegression(), param_grid=lr_params)\n",
    "lr_gridsearch.fit(X_train.values, y_train.values)\n",
    "print(f'''Best params: {lr_gridsearch.best_params_}\n",
    "Best score: {lr_gridsearch.best_score_}''')"
   ]
  },
  {
   "cell_type": "code",
   "execution_count": 34,
   "id": "e71a7aeb",
   "metadata": {},
   "outputs": [],
   "source": [
    "# Logistic Regression\n",
    "\n",
    "lr_model = LogisticRegression(C=1.5, solver='liblinear', tol=0.001)\n",
    "lr_model.fit(X_train.values, y_train.values)\n",
    "\n",
    "lr_predictions = lr_model.predict(X_test.values)"
   ]
  },
  {
   "cell_type": "code",
   "execution_count": 35,
   "id": "9c5d1f89",
   "metadata": {},
   "outputs": [
    {
     "data": {
      "image/png": "[encoded data removed]",
      "text/plain": [
       "<Figure size 800x550 with 1 Axes>"
      ]
     },
     "metadata": {},
     "output_type": "display_data"
    }
   ],
   "source": [
    "# Logistic Regression (confusion matrix)\n",
    "\n",
    "lr_confusion_matrix = ConfusionMatrix(lr_model, classes=lr_model.classes_)\n",
    "lr_confusion_matrix.fit(X_train.values, y_train.values)\n",
    "lr_confusion_matrix.score(X_test.values, y_test.values)\n",
    "mean_models.append(lr_confusion_matrix.score_)"
   ]
  },
  {
   "cell_type": "code",
   "execution_count": 36,
   "id": "9504aaf3",
   "metadata": {},
   "outputs": [
    {
     "name": "stdout",
     "output_type": "stream",
     "text": [
      "              precision    recall  f1-score   support\n",
      "\n",
      "           0       0.85      0.86      0.85       899\n",
      "           1       0.86      0.86      0.86       957\n",
      "\n",
      "    accuracy                           0.86      1856\n",
      "   macro avg       0.86      0.86      0.86      1856\n",
      "weighted avg       0.86      0.86      0.86      1856\n",
      "\n"
     ]
    }
   ],
   "source": [
    "# Logistic Regression (classification report)\n",
    "\n",
    "print(classification_report(y_test, lr_predictions))"
   ]
  },
  {
   "cell_type": "markdown",
   "id": "3d33e9dc",
   "metadata": {},
   "source": [
    "### Support Vector Machine"
   ]
  },
  {
   "cell_type": "code",
   "execution_count": 37,
   "id": "00db528f",
   "metadata": {},
   "outputs": [
    {
     "name": "stdout",
     "output_type": "stream",
     "text": [
      "Best params: {'C': 2.0, 'kernel': 'rbf', 'tol': 0.001}\n",
      "Best score: 0.8679957708259595\n"
     ]
    }
   ],
   "source": [
    "# Support Vector Machine (grid search)\n",
    "\n",
    "svm_params = {'tol': [0.001, 0.0001, 0.00001],\n",
    "              'C': [1.0, 1.5, 2.0],\n",
    "              'kernel': ['rbf', 'linear', 'poly', 'sigmoid']}\n",
    "\n",
    "svm_gridsearch = GridSearchCV(estimator=SVC(), param_grid=svm_params)\n",
    "svm_gridsearch.fit(X_train.values, y_train.values)\n",
    "print(f'''Best params: {svm_gridsearch.best_params_}\n",
    "Best score: {svm_gridsearch.best_score_}''')"
   ]
  },
  {
   "cell_type": "code",
   "execution_count": 38,
   "id": "6210fa17",
   "metadata": {},
   "outputs": [],
   "source": [
    "# Support Vector Machine (model)\n",
    "\n",
    "svm_model = SVC(C=2.0, kernel='rbf', tol=0.001)\n",
    "svm_model.fit(X_train.values, y_train.values)\n",
    "\n",
    "svm_predictions = svm_model.predict(X_test.values)"
   ]
  },
  {
   "cell_type": "code",
   "execution_count": 39,
   "id": "93f98619",
   "metadata": {},
   "outputs": [
    {
     "data": {
      "image/png": "[encoded data removed]",
      "text/plain": [
       "<Figure size 800x550 with 1 Axes>"
      ]
     },
     "metadata": {},
     "output_type": "display_data"
    }
   ],
   "source": [
    "# Support Vector Machine (confusion matrix)\n",
    "\n",
    "svm_confusion_matrix = ConfusionMatrix(svm_model, classes=svm_model.classes_)\n",
    "svm_confusion_matrix.fit(X_train.values, y_train.values)\n",
    "svm_confusion_matrix.score(X_test.values, y_test.values)\n",
    "mean_models.append(svm_confusion_matrix.score_)"
   ]
  },
  {
   "cell_type": "code",
   "execution_count": 40,
   "id": "215f5ecd",
   "metadata": {},
   "outputs": [
    {
     "name": "stdout",
     "output_type": "stream",
     "text": [
      "              precision    recall  f1-score   support\n",
      "\n",
      "           0       0.91      0.84      0.87       899\n",
      "           1       0.86      0.92      0.89       957\n",
      "\n",
      "    accuracy                           0.88      1856\n",
      "   macro avg       0.88      0.88      0.88      1856\n",
      "weighted avg       0.88      0.88      0.88      1856\n",
      "\n"
     ]
    }
   ],
   "source": [
    "# Support Vector Machine (classification report)\n",
    "\n",
    "print(classification_report(y_test, svm_predictions))"
   ]
  },
  {
   "cell_type": "markdown",
   "id": "5fbac0e7",
   "metadata": {},
   "source": [
    "### Artificial Neural Network"
   ]
  },
  {
   "cell_type": "code",
   "execution_count": 41,
   "id": "a49549ac",
   "metadata": {},
   "outputs": [
    {
     "name": "stdout",
     "output_type": "stream",
     "text": [
      "Best params: {'activation': 'tanh', 'batch_size': 25, 'solver': 'sgd'}\n",
      "Best score: 0.8673220071333277\n"
     ]
    }
   ],
   "source": [
    "# Artificial Neural Network (grid search)\n",
    "\n",
    "ann_params = {'activation': ['relu', 'logistic', 'tanh'],\n",
    "              'solver': ['adam', 'sgd'],\n",
    "              'batch_size': [10, 25, 50]}\n",
    "\n",
    "ann_gridsearch = GridSearchCV(estimator=MLPClassifier(), param_grid=ann_params)\n",
    "ann_gridsearch.fit(X_train.values, y_train.values)\n",
    "print(f'''Best params: {ann_gridsearch.best_params_}\n",
    "Best score: {ann_gridsearch.best_score_}''')"
   ]
  },
  {
   "cell_type": "code",
   "execution_count": 42,
   "id": "4e4aa438",
   "metadata": {},
   "outputs": [],
   "source": [
    "# Artificial Neural Network (model)\n",
    "\n",
    "ann_model = MLPClassifier(activation='tanh', batch_size=25, solver='sgd')\n",
    "ann_model.fit(X_train.values, y_train.values)\n",
    "\n",
    "ann_predictions = ann_model.predict(X_test.values)"
   ]
  },
  {
   "cell_type": "code",
   "execution_count": 43,
   "id": "e15befc9",
   "metadata": {},
   "outputs": [
    {
     "data": {
      "image/png": "[encoded data removed]",
      "text/plain": [
       "<Figure size 800x550 with 1 Axes>"
      ]
     },
     "metadata": {},
     "output_type": "display_data"
    }
   ],
   "source": [
    "# Artificial Neural Network (confusion matrix)\n",
    "\n",
    "ann_confusion_matrix = ConfusionMatrix(ann_model, classes=ann_model.classes_)\n",
    "ann_confusion_matrix.fit(X_train.values, y_train.values)\n",
    "ann_confusion_matrix.score(X_test.values, y_test.values)\n",
    "mean_models.append(ann_confusion_matrix.score_)"
   ]
  },
  {
   "cell_type": "code",
   "execution_count": 44,
   "id": "6c71ead6",
   "metadata": {},
   "outputs": [
    {
     "name": "stdout",
     "output_type": "stream",
     "text": [
      "              precision    recall  f1-score   support\n",
      "\n",
      "           0       0.91      0.84      0.87       899\n",
      "           1       0.86      0.92      0.89       957\n",
      "\n",
      "    accuracy                           0.88      1856\n",
      "   macro avg       0.88      0.88      0.88      1856\n",
      "weighted avg       0.88      0.88      0.88      1856\n",
      "\n"
     ]
    }
   ],
   "source": [
    "# Artificial Neural Network (classification report)\n",
    "\n",
    "print(classification_report(y_test, svm_predictions))"
   ]
  },
  {
   "cell_type": "markdown",
   "id": "844e1469",
   "metadata": {},
   "source": [
    "Analyzing the results, it is observed that random forest and xgboost models are the\n",
    "best for prediction. The difference between them is almost insignificant. Cross-validation\n",
    "should be performed to technically evaluate the best model."
   ]
  },
  {
   "cell_type": "markdown",
   "id": "650dc2fa",
   "metadata": {},
   "source": [
    "## Cross Validation"
   ]
  },
  {
   "cell_type": "code",
   "execution_count": 45,
   "id": "4818049f",
   "metadata": {},
   "outputs": [
    {
     "data": {
      "text/html": [
       "<div>\n",
       "<style scoped>\n",
       "    .dataframe tbody tr th:only-of-type {\n",
       "        vertical-align: middle;\n",
       "    }\n",
       "\n",
       "    .dataframe tbody tr th {\n",
       "        vertical-align: top;\n",
       "    }\n",
       "\n",
       "    .dataframe thead th {\n",
       "        text-align: right;\n",
       "    }\n",
       "</style>\n",
       "<table border=\"1\" class=\"dataframe\">\n",
       "  <thead>\n",
       "    <tr style=\"text-align: right;\">\n",
       "      <th></th>\n",
       "      <th>Naive Bayes</th>\n",
       "      <th>Decision Trees</th>\n",
       "      <th>Random Forest</th>\n",
       "      <th>XGBoost</th>\n",
       "      <th>K-Nearest Neighbors</th>\n",
       "      <th>Logistic Regression</th>\n",
       "      <th>Support Vector Machine</th>\n",
       "      <th>Artificial Neural Network</th>\n",
       "    </tr>\n",
       "  </thead>\n",
       "  <tbody>\n",
       "    <tr>\n",
       "      <th>0</th>\n",
       "      <td>0.767672</td>\n",
       "      <td>0.865086</td>\n",
       "      <td>0.883405</td>\n",
       "      <td>0.885884</td>\n",
       "      <td>0.845043</td>\n",
       "      <td>0.853879</td>\n",
       "      <td>0.871121</td>\n",
       "      <td>0.868103</td>\n",
       "    </tr>\n",
       "    <tr>\n",
       "      <th>1</th>\n",
       "      <td>0.767780</td>\n",
       "      <td>0.859914</td>\n",
       "      <td>0.882974</td>\n",
       "      <td>0.884052</td>\n",
       "      <td>0.842134</td>\n",
       "      <td>0.855172</td>\n",
       "      <td>0.871228</td>\n",
       "      <td>0.867134</td>\n",
       "    </tr>\n",
       "    <tr>\n",
       "      <th>2</th>\n",
       "      <td>0.766810</td>\n",
       "      <td>0.863578</td>\n",
       "      <td>0.881573</td>\n",
       "      <td>0.883836</td>\n",
       "      <td>0.843319</td>\n",
       "      <td>0.854741</td>\n",
       "      <td>0.870582</td>\n",
       "      <td>0.868750</td>\n",
       "    </tr>\n",
       "    <tr>\n",
       "      <th>3</th>\n",
       "      <td>0.767349</td>\n",
       "      <td>0.865302</td>\n",
       "      <td>0.882220</td>\n",
       "      <td>0.883082</td>\n",
       "      <td>0.842457</td>\n",
       "      <td>0.855172</td>\n",
       "      <td>0.870797</td>\n",
       "      <td>0.867241</td>\n",
       "    </tr>\n",
       "    <tr>\n",
       "      <th>4</th>\n",
       "      <td>0.767349</td>\n",
       "      <td>0.858944</td>\n",
       "      <td>0.880603</td>\n",
       "      <td>0.880711</td>\n",
       "      <td>0.839763</td>\n",
       "      <td>0.854310</td>\n",
       "      <td>0.869504</td>\n",
       "      <td>0.865625</td>\n",
       "    </tr>\n",
       "  </tbody>\n",
       "</table>\n",
       "</div>"
      ],
      "text/plain": [
       "   Naive Bayes  Decision Trees  Random Forest   XGBoost  K-Nearest Neighbors  \\\n",
       "0     0.767672        0.865086       0.883405  0.885884             0.845043   \n",
       "1     0.767780        0.859914       0.882974  0.884052             0.842134   \n",
       "2     0.766810        0.863578       0.881573  0.883836             0.843319   \n",
       "3     0.767349        0.865302       0.882220  0.883082             0.842457   \n",
       "4     0.767349        0.858944       0.880603  0.880711             0.839763   \n",
       "\n",
       "   Logistic Regression  Support Vector Machine  Artificial Neural Network  \n",
       "0             0.853879                0.871121                   0.868103  \n",
       "1             0.855172                0.871228                   0.867134  \n",
       "2             0.854741                0.870582                   0.868750  \n",
       "3             0.855172                0.870797                   0.867241  \n",
       "4             0.854310                0.869504                   0.865625  "
      ]
     },
     "execution_count": 45,
     "metadata": {},
     "output_type": "execute_result"
    }
   ],
   "source": [
    "### Cross validation ###\n",
    "\n",
    "evaluation_models = []\n",
    "\n",
    "pre_label_models = np.array(['Naive Bayes', 'Decision Trees', 'Random Forest', 'XGBoost',\n",
    "                             'K-Nearest Neighbors', 'Logistic Regression', 'Support Vector Machine',\n",
    "                             'Artificial Neural Network'])\n",
    "\n",
    "label_models = list(np.array([[model] * 30 for model in pre_label_models]).reshape(1,-1).flatten())\n",
    "\n",
    "model_list = [nb_model, dt_model, rf_model, xgb_model, knn_model, lr_model, svm_model, ann_model]\n",
    "\n",
    "for i in range(len(label_models)):\n",
    "    kfold = KFold(n_splits=5, shuffle=True, random_state=i%30)\n",
    "    cv_results = cross_val_score(model_list[int(np.floor(i//30))], X, y, cv=kfold)\n",
    "    evaluation_models.append(cv_results.mean())\n",
    "\n",
    "cv_results = pd.DataFrame({'Naive Bayes': evaluation_models[:30], 'Decision Trees': evaluation_models[30:60],\n",
    "                           'Random Forest': evaluation_models[60:90], 'XGBoost': evaluation_models[90:120],\n",
    "                           'K-Nearest Neighbors': evaluation_models[120:150],\n",
    "                           'Logistic Regression': evaluation_models[150:180],\n",
    "                           'Support Vector Machine': evaluation_models[180:210],\n",
    "                           'Artificial Neural Network': evaluation_models[210:]})\n",
    "cv_results.head()"
   ]
  },
  {
   "cell_type": "code",
   "execution_count": 46,
   "id": "be77fc38",
   "metadata": {},
   "outputs": [
    {
     "data": {
      "text/html": [
       "<div>\n",
       "<style scoped>\n",
       "    .dataframe tbody tr th:only-of-type {\n",
       "        vertical-align: middle;\n",
       "    }\n",
       "\n",
       "    .dataframe tbody tr th {\n",
       "        vertical-align: top;\n",
       "    }\n",
       "\n",
       "    .dataframe thead th {\n",
       "        text-align: right;\n",
       "    }\n",
       "</style>\n",
       "<table border=\"1\" class=\"dataframe\">\n",
       "  <thead>\n",
       "    <tr style=\"text-align: right;\">\n",
       "      <th></th>\n",
       "      <th>Naive Bayes</th>\n",
       "      <th>Decision Trees</th>\n",
       "      <th>Random Forest</th>\n",
       "      <th>XGBoost</th>\n",
       "      <th>K-Nearest Neighbors</th>\n",
       "      <th>Logistic Regression</th>\n",
       "      <th>Support Vector Machine</th>\n",
       "      <th>Artificial Neural Network</th>\n",
       "    </tr>\n",
       "  </thead>\n",
       "  <tbody>\n",
       "    <tr>\n",
       "      <th>count</th>\n",
       "      <td>30.000000</td>\n",
       "      <td>30.000000</td>\n",
       "      <td>30.000000</td>\n",
       "      <td>30.000000</td>\n",
       "      <td>30.000000</td>\n",
       "      <td>30.000000</td>\n",
       "      <td>30.000000</td>\n",
       "      <td>30.000000</td>\n",
       "    </tr>\n",
       "    <tr>\n",
       "      <th>mean</th>\n",
       "      <td>0.764644</td>\n",
       "      <td>0.863114</td>\n",
       "      <td>0.882504</td>\n",
       "      <td>0.882626</td>\n",
       "      <td>0.842992</td>\n",
       "      <td>0.855302</td>\n",
       "      <td>0.870697</td>\n",
       "      <td>0.867579</td>\n",
       "    </tr>\n",
       "    <tr>\n",
       "      <th>std</th>\n",
       "      <td>0.007479</td>\n",
       "      <td>0.002251</td>\n",
       "      <td>0.000881</td>\n",
       "      <td>0.001407</td>\n",
       "      <td>0.001532</td>\n",
       "      <td>0.000830</td>\n",
       "      <td>0.000833</td>\n",
       "      <td>0.001273</td>\n",
       "    </tr>\n",
       "    <tr>\n",
       "      <th>min</th>\n",
       "      <td>0.737069</td>\n",
       "      <td>0.858944</td>\n",
       "      <td>0.880603</td>\n",
       "      <td>0.880496</td>\n",
       "      <td>0.839763</td>\n",
       "      <td>0.853879</td>\n",
       "      <td>0.869181</td>\n",
       "      <td>0.865409</td>\n",
       "    </tr>\n",
       "    <tr>\n",
       "      <th>25%</th>\n",
       "      <td>0.765113</td>\n",
       "      <td>0.860830</td>\n",
       "      <td>0.881897</td>\n",
       "      <td>0.881546</td>\n",
       "      <td>0.841945</td>\n",
       "      <td>0.854849</td>\n",
       "      <td>0.870043</td>\n",
       "      <td>0.866810</td>\n",
       "    </tr>\n",
       "    <tr>\n",
       "      <th>50%</th>\n",
       "      <td>0.766487</td>\n",
       "      <td>0.863308</td>\n",
       "      <td>0.882597</td>\n",
       "      <td>0.882489</td>\n",
       "      <td>0.843103</td>\n",
       "      <td>0.855065</td>\n",
       "      <td>0.870690</td>\n",
       "      <td>0.867726</td>\n",
       "    </tr>\n",
       "    <tr>\n",
       "      <th>75%</th>\n",
       "      <td>0.767645</td>\n",
       "      <td>0.865059</td>\n",
       "      <td>0.882974</td>\n",
       "      <td>0.883432</td>\n",
       "      <td>0.844154</td>\n",
       "      <td>0.855900</td>\n",
       "      <td>0.871202</td>\n",
       "      <td>0.868400</td>\n",
       "    </tr>\n",
       "    <tr>\n",
       "      <th>max</th>\n",
       "      <td>0.769073</td>\n",
       "      <td>0.866810</td>\n",
       "      <td>0.884375</td>\n",
       "      <td>0.885884</td>\n",
       "      <td>0.846228</td>\n",
       "      <td>0.857004</td>\n",
       "      <td>0.872737</td>\n",
       "      <td>0.869828</td>\n",
       "    </tr>\n",
       "  </tbody>\n",
       "</table>\n",
       "</div>"
      ],
      "text/plain": [
       "       Naive Bayes  Decision Trees  Random Forest    XGBoost  \\\n",
       "count    30.000000       30.000000      30.000000  30.000000   \n",
       "mean      0.764644        0.863114       0.882504   0.882626   \n",
       "std       0.007479        0.002251       0.000881   0.001407   \n",
       "min       0.737069        0.858944       0.880603   0.880496   \n",
       "25%       0.765113        0.860830       0.881897   0.881546   \n",
       "50%       0.766487        0.863308       0.882597   0.882489   \n",
       "75%       0.767645        0.865059       0.882974   0.883432   \n",
       "max       0.769073        0.866810       0.884375   0.885884   \n",
       "\n",
       "       K-Nearest Neighbors  Logistic Regression  Support Vector Machine  \\\n",
       "count            30.000000            30.000000               30.000000   \n",
       "mean              0.842992             0.855302                0.870697   \n",
       "std               0.001532             0.000830                0.000833   \n",
       "min               0.839763             0.853879                0.869181   \n",
       "25%               0.841945             0.854849                0.870043   \n",
       "50%               0.843103             0.855065                0.870690   \n",
       "75%               0.844154             0.855900                0.871202   \n",
       "max               0.846228             0.857004                0.872737   \n",
       "\n",
       "       Artificial Neural Network  \n",
       "count                  30.000000  \n",
       "mean                    0.867579  \n",
       "std                     0.001273  \n",
       "min                     0.865409  \n",
       "25%                     0.866810  \n",
       "50%                     0.867726  \n",
       "75%                     0.868400  \n",
       "max                     0.869828  "
      ]
     },
     "execution_count": 46,
     "metadata": {},
     "output_type": "execute_result"
    }
   ],
   "source": [
    "# Describe\n",
    "\n",
    "cv_results.describe()"
   ]
  },
  {
   "cell_type": "code",
   "execution_count": 51,
   "id": "e5e3d3cf",
   "metadata": {},
   "outputs": [
    {
     "data": {
      "image/png": "[encoded data removed]",
      "text/plain": [
       "<Figure size 1000x1600 with 8 Axes>"
      ]
     },
     "metadata": {},
     "output_type": "display_data"
    }
   ],
   "source": [
    "# histograms for normality analysis (machine learning)\n",
    "\n",
    "fig, axes = plt.subplots(4, 2, figsize=(10, 16))\n",
    "\n",
    "for i in range(len(pre_label_models)):\n",
    "    sns.histplot(cv_results[pre_label_models[i]].values, kde=True, ax=axes[int(np.floor(i//2)), i%2])\n",
    "    axes[int(np.floor(i//2)), i%2].set_title(pre_label_models[i])\n",
    "    \n",
    "plt.show()"
   ]
  },
  {
   "cell_type": "code",
   "execution_count": 53,
   "id": "efbddfbe",
   "metadata": {},
   "outputs": [
    {
     "name": "stdout",
     "output_type": "stream",
     "text": [
      "Naive Bayes: JB statistic: 152.15338389146, p-value: 0.0\n",
      "Decision Trees: JB statistic: 2.035271990517782, p-value: 0.3614483967114557\n",
      "Random Forest: JB statistic: 0.025402645885090547, p-value: 0.9873789984374726\n",
      "XGBoost: JB statistic: 0.7826339396234933, p-value: 0.676165797922881\n",
      "K-Nearest Neighbors: JB statistic: 0.36291641539497366, p-value: 0.8340531015746457\n",
      "Logistic Regression: JB statistic: 1.3228591024451406, p-value: 0.5161129969060285\n",
      "Support Vector Machine: JB statistic: 0.6648374137442575, p-value: 0.7171869688662265\n",
      "Artificial Neural Network: JB statistic: 0.953261432653192, p-value: 0.62087176477038\n"
     ]
    }
   ],
   "source": [
    "# Jarque-Bera test\n",
    "\n",
    "for i in range(len(pre_label_models)):\n",
    "    jb_stat, jb_p = jarque_bera(evaluation_models[i*30:(i+1)*30])\n",
    "    print(f\"{pre_label_models[i]}: JB statistic: {jb_stat}, p-value: {jb_p}\")"
   ]
  },
  {
   "cell_type": "markdown",
   "id": "11cd6388",
   "metadata": {},
   "source": [
    "The evaluation means follow a normal distribution with the exception of naive Bayes."
   ]
  },
  {
   "cell_type": "code",
   "execution_count": 55,
   "id": "df465ae4",
   "metadata": {},
   "outputs": [
    {
     "name": "stdout",
     "output_type": "stream",
     "text": [
      "F statistic: 5102.209737405676\n",
      "p-value: 3.871879923036506e-250\n"
     ]
    }
   ],
   "source": [
    "# ANOVA test\n",
    "\n",
    "anova_f, anova_p = f_oneway(evaluation_models[:30], evaluation_models[30:60], evaluation_models[60:90],\n",
    "                            evaluation_models[90:120], evaluation_models[120:150], evaluation_models[150:180],\n",
    "                            evaluation_models[180:210], evaluation_models[210:])\n",
    "print(f'''F statistic: {anova_f}\n",
    "p-value: {anova_p}''')"
   ]
  },
  {
   "cell_type": "markdown",
   "id": "ec2a1bc6",
   "metadata": {},
   "source": [
    "There are significant differences between the comparison groups."
   ]
  },
  {
   "cell_type": "code",
   "execution_count": 56,
   "id": "d508a61b",
   "metadata": {},
   "outputs": [
    {
     "name": "stdout",
     "output_type": "stream",
     "text": [
      "                  Multiple Comparison of Means - Tukey HSD, FWER=0.05                  \n",
      "=======================================================================================\n",
      "          group1                  group2         meandiff p-adj   lower   upper  reject\n",
      "---------------------------------------------------------------------------------------\n",
      "Artificial Neural Network         Decision Trees  -0.0045    0.0 -0.0068 -0.0021   True\n",
      "Artificial Neural Network    K-Nearest Neighbors  -0.0246    0.0 -0.0269 -0.0223   True\n",
      "Artificial Neural Network    Logistic Regression  -0.0123    0.0 -0.0146   -0.01   True\n",
      "Artificial Neural Network            Naive Bayes  -0.1029    0.0 -0.1053 -0.1006   True\n",
      "Artificial Neural Network          Random Forest   0.0149    0.0  0.0126  0.0172   True\n",
      "Artificial Neural Network Support Vector Machine   0.0031 0.0014  0.0008  0.0054   True\n",
      "Artificial Neural Network                XGBoost    0.015    0.0  0.0127  0.0174   True\n",
      "           Decision Trees    K-Nearest Neighbors  -0.0201    0.0 -0.0224 -0.0178   True\n",
      "           Decision Trees    Logistic Regression  -0.0078    0.0 -0.0101 -0.0055   True\n",
      "           Decision Trees            Naive Bayes  -0.0985    0.0 -0.1008 -0.0961   True\n",
      "           Decision Trees          Random Forest   0.0194    0.0  0.0171  0.0217   True\n",
      "           Decision Trees Support Vector Machine   0.0076    0.0  0.0053  0.0099   True\n",
      "           Decision Trees                XGBoost   0.0195    0.0  0.0172  0.0218   True\n",
      "      K-Nearest Neighbors    Logistic Regression   0.0123    0.0    0.01  0.0146   True\n",
      "      K-Nearest Neighbors            Naive Bayes  -0.0783    0.0 -0.0807  -0.076   True\n",
      "      K-Nearest Neighbors          Random Forest   0.0395    0.0  0.0372  0.0418   True\n",
      "      K-Nearest Neighbors Support Vector Machine   0.0277    0.0  0.0254    0.03   True\n",
      "      K-Nearest Neighbors                XGBoost   0.0396    0.0  0.0373   0.042   True\n",
      "      Logistic Regression            Naive Bayes  -0.0907    0.0  -0.093 -0.0883   True\n",
      "      Logistic Regression          Random Forest   0.0272    0.0  0.0249  0.0295   True\n",
      "      Logistic Regression Support Vector Machine   0.0154    0.0  0.0131  0.0177   True\n",
      "      Logistic Regression                XGBoost   0.0273    0.0   0.025  0.0296   True\n",
      "              Naive Bayes          Random Forest   0.1179    0.0  0.1155  0.1202   True\n",
      "              Naive Bayes Support Vector Machine   0.1061    0.0  0.1037  0.1084   True\n",
      "              Naive Bayes                XGBoost    0.118    0.0  0.1157  0.1203   True\n",
      "            Random Forest Support Vector Machine  -0.0118    0.0 -0.0141 -0.0095   True\n",
      "            Random Forest                XGBoost   0.0001    1.0 -0.0022  0.0024  False\n",
      "   Support Vector Machine                XGBoost   0.0119    0.0  0.0096  0.0143   True\n",
      "---------------------------------------------------------------------------------------\n"
     ]
    }
   ],
   "source": [
    "# Tukey's range test\n",
    "\n",
    "tukey_results = pairwise_tukeyhsd(endog=evaluation_models, groups=label_models, alpha=0.05)\n",
    "\n",
    "print(tukey_results)"
   ]
  },
  {
   "cell_type": "markdown",
   "id": "1a56a527",
   "metadata": {},
   "source": [
    "Through the results of the Tukey test, there is no evidence of different means between random forest and xgboost models. This means that these models are statistically equal. This result is important because it's not always just about observing the model with the best accuracy. A more detailed assessment can reveal important information like this one."
   ]
  },
  {
   "cell_type": "code",
   "execution_count": 59,
   "id": "aa7911cb",
   "metadata": {},
   "outputs": [
    {
     "name": "stdout",
     "output_type": "stream",
     "text": [
      "{'Naive Bayes': 0.7548491379310345, 'Decision Trees': 0.8685344827586207, 'Random Forest': 0.884698275862069, 'XGBoost': 0.8857758620689655, 'K-Nearest Neighbors': 0.8448275862068966, 'Logistic Regression': 0.8572198275862069, 'Support Vector Machine': 0.8803879310344828, 'Artificial Neural Network': 0.8728448275862069}\n"
     ]
    }
   ],
   "source": [
    "# Results by model\n",
    "\n",
    "mean_results = {}\n",
    "\n",
    "for key, values in zip(pre_label_models, mean_models):\n",
    "    mean_results[key] = values\n",
    "\n",
    "print(mean_results)"
   ]
  },
  {
   "cell_type": "code",
   "execution_count": 60,
   "id": "7cf64384",
   "metadata": {},
   "outputs": [
    {
     "name": "stdout",
     "output_type": "stream",
     "text": [
      "{'Naive Bayes': 0.7646443965517242, 'Decision Trees': 0.8631142241379312, 'Random Forest': 0.8825035919540232, 'XGBoost': 0.8826257183908047, 'K-Nearest Neighbors': 0.8429920977011494, 'Logistic Regression': 0.8553017241379308, 'Support Vector Machine': 0.8706968390804595, 'Artificial Neural Network': 0.8675790229885058}\n"
     ]
    }
   ],
   "source": [
    "# Results by evaluation\n",
    "\n",
    "evaluation_results = {}\n",
    "\n",
    "for i in range(len(pre_label_models)):\n",
    "    key = pre_label_models[i]\n",
    "    values = float(np.array(evaluation_models[i*30:(i+1)*30]).mean())\n",
    "    evaluation_results[key] = values\n",
    "\n",
    "print(evaluation_results)"
   ]
  },
  {
   "cell_type": "markdown",
   "id": "a28ca4d4",
   "metadata": {},
   "source": [
    "## Conclusion"
   ]
  },
  {
   "cell_type": "markdown",
   "id": "05ea1228",
   "metadata": {},
   "source": [
    "The conclusion is that the best model will have to be based on decision making. If correctly predicting whether the customer will subscribe a deposit term (yes) is more important, the model chosen is random forest. Otherwise, the best model will be xgboost."
   ]
  }
 ],
 "metadata": {
  "kernelspec": {
   "display_name": "Python 3 (ipykernel)",
   "language": "python",
   "name": "python3"
  },
  "language_info": {
   "codemirror_mode": {
    "name": "ipython",
    "version": 3
   },
   "file_extension": ".py",
   "mimetype": "text/x-python",
   "name": "python",
   "nbconvert_exporter": "python",
   "pygments_lexer": "ipython3",
   "version": "3.9.13"
  }
 },
 "nbformat": 4,
 "nbformat_minor": 5
}
